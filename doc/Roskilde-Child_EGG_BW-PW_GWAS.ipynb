{
 "cells": [
  {
   "cell_type": "markdown",
   "metadata": {},
   "source": [
    "# EGG BW + PW GWAS in Roskilde Child Cohort\n",
    "by Sara Stinson March 18th, 2020 Early Growth and Genetics Consortium Birth Weight and Placental weight GWAS"
   ]
  },
  {
   "cell_type": "code",
   "execution_count": 1,
   "metadata": {
    "collapsed": true
   },
   "outputs": [],
   "source": [
    "workdir = \"/emc/cbmr/users/mjl259/project_EGG\""
   ]
  },
  {
   "cell_type": "code",
   "execution_count": 2,
   "metadata": {
    "collapsed": true
   },
   "outputs": [],
   "source": [
    "pathgeno = \"/emc/cbmr/data/imputed/IFG-Roskilde-rerun/michigan/hrc\""
   ]
  },
  {
   "cell_type": "code",
   "execution_count": 3,
   "metadata": {
    "collapsed": true
   },
   "outputs": [],
   "source": [
    "pathpheno = \"/emc/cbmr/users/mjl259/project_EGG/phenotype/Roskilde_CHILD_rerun\""
   ]
  },
  {
   "cell_type": "markdown",
   "metadata": {},
   "source": [
    "## 1. Prepare sample files"
   ]
  },
  {
   "cell_type": "markdown",
   "metadata": {},
   "source": [
    "### 1.1 Autosomes"
   ]
  },
  {
   "cell_type": "code",
   "execution_count": 12,
   "metadata": {
    "collapsed": true
   },
   "outputs": [],
   "source": [
    "%%bash -s \"$workdir\" \"$pathgeno\" \"$pathpheno\"\n",
    ". /home/mjl259/.bashrc\n",
    "\n",
    "# Remove header\n",
    "sed 1d $3/Roskilde_BW_PW_sex_GA_PC1-10_13.02.2020.txt > \\\n",
    "$3/Roskilde_BW_PW_sex_GA_PC1-10_wo_header.tmp\n",
    "\n",
    "# Extract the order of individuals from VCF file\n",
    "bcftools query -l $2/chr22.dose.vcf.gz > \\\n",
    "$3/Roskilde_CHILD_ID_list_from_vcf.txt\n",
    "\n",
    "# Sort phenotype file according to vcf order\n",
    "awk 'FNR==NR {x2[$1] = $0; next} $1 in x2 {print x2[$1]}' \\\n",
    "$3/Roskilde_BW_PW_sex_GA_PC1-10_wo_header.tmp \\\n",
    "$3/Roskilde_CHILD_ID_list_from_vcf.txt > $3/Roskilde_BW_PW_sex_GA_PC1-10_ordered.tmp\n",
    "\n",
    "# Specify variable types\n",
    "sed '1 s/^/0 0 0 D C C C C C C C C C C C P P\\n/' \\\n",
    "$3/Roskilde_BW_PW_sex_GA_PC1-10_ordered.tmp > \\\n",
    "$3/Roskilde_BW_PW_sex_GA_PC1-10_ordered_line2.tmp\n",
    "\n",
    "# Add header\n",
    "{ echo \"ID_1 ID_2 missing sex GA PC1 PC2 PC3 PC4 PC5 PC6 PC7 PC8 PC9 PC10 BW PW\"; \\\n",
    "cat $3/Roskilde_BW_PW_sex_GA_PC1-10_ordered_line2.tmp; } > \\\n",
    "$3/Roskilde_BW_PW_sex_GA_PC1-10_ordered_header.sample\n",
    "\n",
    "# remove intermediate files\n",
    "rm $3/*.tmp"
   ]
  },
  {
   "cell_type": "markdown",
   "metadata": {},
   "source": [
    "### 1.2 X chromosome"
   ]
  },
  {
   "cell_type": "code",
   "execution_count": 4,
   "metadata": {
    "collapsed": true
   },
   "outputs": [],
   "source": [
    "%%bash -s \"$workdir\" \"$pathgeno\" \"$pathpheno\"\n",
    ". /home/mjl259/.bashrc\n",
    "\n",
    "# Remove header\n",
    "sed 1d $3/Roskilde_chrX_sex_GA_PC1-10_11.03.2020.txt > \\\n",
    "$3/Roskilde_chrX_BW_PW_sex_GA_PC1-10_wo_header.tmp\n",
    "\n",
    "# Sort phenotype file according to vcf order\n",
    "awk 'FNR==NR {x2[$1] = $0; next} $1 in x2 {print x2[$1]}' \\\n",
    "$3/Roskilde_chrX_BW_PW_sex_GA_PC1-10_wo_header.tmp \\\n",
    "$1/genotype/Roskilde_CHILD_rerun/chrX.recoded.sample > \\\n",
    "$3/Roskilde_chrX_BW_PW_sex_GA_PC1-10_ordered.tmp\n",
    "\n",
    "# Specify variable types\n",
    "sed '1 s/^/0 0 0 D C C C C C C C C C C C P P\\n/' \\\n",
    "$3/Roskilde_chrX_BW_PW_sex_GA_PC1-10_ordered.tmp > \\\n",
    "$3/Roskilde_chrX_BW_PW_sex_GA_PC1-10_ordered_line2.tmp\n",
    "\n",
    "# Add header\n",
    "{ echo \"ID_1 ID_2 missing sex GA PC1 PC2 PC3 PC4 PC5 PC6 PC7 PC8 PC9 PC10 BW PW\"; \\\n",
    "cat $3/Roskilde_chrX_BW_PW_sex_GA_PC1-10_ordered_line2.tmp; } > \\\n",
    "$3/Roskilde_chrX_BW_PW_sex_GA_PC1-10_ordered_header.sample\n",
    "\n",
    "# remove intermediate files:\n",
    "rm $3/*.tmp"
   ]
  },
  {
   "cell_type": "markdown",
   "metadata": {},
   "source": [
    "### 1.3 X chromosome (for binary trait for method newml)"
   ]
  },
  {
   "cell_type": "code",
   "execution_count": 51,
   "metadata": {
    "collapsed": true
   },
   "outputs": [],
   "source": [
    "%%bash -s \"$workdir\" \"$pathgeno\" \"$pathpheno\"\n",
    ". /home/mjl259/.bashrc\n",
    "\n",
    "# Remove header\n",
    "sed 1d $3/Roskilde_Binary_sex_GA_PC1-10_10.03.2020.txt > \\\n",
    "$3/Roskilde_Binary_sex_GA_PC1-10_wo_header.tmp\n",
    "\n",
    "# Extract the order of individuals from VCF file\n",
    "bcftools query -l $2/chrX.dose.vcf.gz > \\\n",
    "$3/Roskilde_CHILD_ID_list_from_chrX_vcf.txt\n",
    "\n",
    "# Sort phenotype file according to vcf order\n",
    "awk 'FNR==NR {x2[$1] = $0; next} $1 in x2 {print x2[$1]}' \\\n",
    "$3/Roskilde_Binary_sex_GA_PC1-10_wo_header.tmp \\\n",
    "$3/Roskilde_CHILD_ID_list_from_chrX_vcf.txt > \\\n",
    "$3/Roskilde_Binary_sex_GA_PC1-10_ordered.tmp\n",
    "\n",
    "# Specify variable types\n",
    "sed '1 s/^/0 0 0 D C C C C C C C C C C C B\\n/' \\\n",
    "$3/Roskilde_Binary_sex_GA_PC1-10_ordered.tmp > \\\n",
    "$3/Roskilde_Binary_sex_GA_PC1-10_ordered_line2.tmp\n",
    "\n",
    "# Add header\n",
    "{ echo \"ID_1 ID_2 missing sex GA PC1 PC2 PC3 PC4 PC5 PC6 PC7 PC8 PC9 PC10 Binary\"; \\\n",
    "cat $3/Roskilde_Binary_sex_GA_PC1-10_ordered_line2.tmp; } > \\\n",
    "$3/Roskilde_Binary_sex_GA_PC1-10_ordered_header.sample\n",
    "\n",
    "# remove intermediate files:\n",
    "rm $3/*.tmp"
   ]
  },
  {
   "cell_type": "markdown",
   "metadata": {},
   "source": [
    "## 2. Run BW & PW SNPTEST"
   ]
  },
  {
   "cell_type": "markdown",
   "metadata": {},
   "source": [
    "### 2.1 Autosomes (adjusted for sex & gest_age +10 PC)"
   ]
  },
  {
   "cell_type": "code",
   "execution_count": 16,
   "metadata": {},
   "outputs": [
    {
     "name": "stdout",
     "output_type": "stream",
     "text": [
      "Overwriting /emc/cbmr/users/mjl259/project_EGG/script/SNPTEST_Roskilde_CHILD_BW_PW_SEX_GA_adj.sh\n"
     ]
    }
   ],
   "source": [
    "%%writefile $workdir/script/SNPTEST_Roskilde_CHILD_BW_PW_SEX_GA_adj.sh\n",
    "#!/bin/bash\n",
    "#$ -S /bin/bash\n",
    "#$ -cwd\n",
    "#$ -pe smp 2\n",
    "#$ -N SNPTest\n",
    "\n",
    "pheno=${p}\n",
    "chr=${c}\n",
    "pathgeno=${pg}\n",
    "workdir=${w}\n",
    "\n",
    "/oldhome/tdr438/snptest_v2.5.2/snptest_v2.5.2 -data ${pathgeno}/chr${chr}.dose.vcf.gz ${workdir}/phenotype/Roskilde_CHILD_rerun/Roskilde_BW_PW_sex_GA_PC1-10_ordered_header.sample \\\n",
    "    -o ${workdir}/results/Roskilde_CHILD_rerun/SNPTest_Roskilde_CHILD_chr${chr}_${pheno}_sex_GA_adj.out \\\n",
    "    -genotype_field GP \\\n",
    "    -frequentist 1 \\\n",
    "    -method expected \\\n",
    "    -pheno ${pheno} \\\n",
    "    -cov_names sex GA PC1 PC2 PC3 PC4 PC5 PC6 PC7 PC8 PC9 PC10 \\\n",
    "    -hwe"
   ]
  },
  {
   "cell_type": "code",
   "execution_count": 17,
   "metadata": {},
   "outputs": [
    {
     "name": "stdout",
     "output_type": "stream",
     "text": [
      "Your job 6817803 (\"SNPTest\") has been submitted\n",
      "Your job 6817804 (\"SNPTest\") has been submitted\n",
      "Your job 6817805 (\"SNPTest\") has been submitted\n",
      "Your job 6817806 (\"SNPTest\") has been submitted\n",
      "Your job 6817807 (\"SNPTest\") has been submitted\n",
      "Your job 6817808 (\"SNPTest\") has been submitted\n",
      "Your job 6817809 (\"SNPTest\") has been submitted\n",
      "Your job 6817810 (\"SNPTest\") has been submitted\n",
      "Your job 6817811 (\"SNPTest\") has been submitted\n",
      "Your job 6817812 (\"SNPTest\") has been submitted\n",
      "Your job 6817813 (\"SNPTest\") has been submitted\n",
      "Your job 6817814 (\"SNPTest\") has been submitted\n",
      "Your job 6817815 (\"SNPTest\") has been submitted\n",
      "Your job 6817816 (\"SNPTest\") has been submitted\n",
      "Your job 6817817 (\"SNPTest\") has been submitted\n",
      "Your job 6817818 (\"SNPTest\") has been submitted\n",
      "Your job 6817819 (\"SNPTest\") has been submitted\n",
      "Your job 6817820 (\"SNPTest\") has been submitted\n",
      "Your job 6817821 (\"SNPTest\") has been submitted\n",
      "Your job 6817822 (\"SNPTest\") has been submitted\n",
      "Your job 6817823 (\"SNPTest\") has been submitted\n",
      "Your job 6817824 (\"SNPTest\") has been submitted\n",
      "Your job 6817825 (\"SNPTest\") has been submitted\n",
      "Your job 6817826 (\"SNPTest\") has been submitted\n",
      "Your job 6817827 (\"SNPTest\") has been submitted\n",
      "Your job 6817828 (\"SNPTest\") has been submitted\n",
      "Your job 6817829 (\"SNPTest\") has been submitted\n",
      "Your job 6817830 (\"SNPTest\") has been submitted\n",
      "Your job 6817831 (\"SNPTest\") has been submitted\n",
      "Your job 6817832 (\"SNPTest\") has been submitted\n",
      "Your job 6817833 (\"SNPTest\") has been submitted\n",
      "Your job 6817834 (\"SNPTest\") has been submitted\n",
      "Your job 6817835 (\"SNPTest\") has been submitted\n",
      "Your job 6817836 (\"SNPTest\") has been submitted\n",
      "Your job 6817837 (\"SNPTest\") has been submitted\n",
      "Your job 6817838 (\"SNPTest\") has been submitted\n",
      "Your job 6817839 (\"SNPTest\") has been submitted\n",
      "Your job 6817840 (\"SNPTest\") has been submitted\n",
      "Your job 6817841 (\"SNPTest\") has been submitted\n",
      "Your job 6817842 (\"SNPTest\") has been submitted\n",
      "Your job 6817843 (\"SNPTest\") has been submitted\n",
      "Your job 6817844 (\"SNPTest\") has been submitted\n",
      "Your job 6817845 (\"SNPTest\") has been submitted\n",
      "Your job 6817846 (\"SNPTest\") has been submitted\n"
     ]
    }
   ],
   "source": [
    "%%bash -s \"$workdir\" \"$pathgeno\" \"$pathpheno\"  \n",
    ". /home/mjl259/.bashrc\n",
    "\n",
    "script=\"$1/script/SNPTEST_Roskilde_CHILD_BW_PW_SEX_GA_adj.sh\"\n",
    "declare -a phenos=(\"BW\" \"PW\")\n",
    "for pheno in \"${phenos[@]}\"; do # loop through each pheno\n",
    "for chr in {1..22}; do # loop through each chr\n",
    "qsub -q long.q -v p=${pheno},c=${chr},pg=$2,w=$1 -e $1/log/SNPTest_Roskild_CHILD_rerun_${pheno}_chr${chr}_sex_GA_adj_13.02.2020.e -o $1/log/SNPTest_Roskild_CHILD_rerun_${pheno}_chr${chr}_sex_GA_adj_13.02.2020.o \"$script\";\n",
    "done;\n",
    "done"
   ]
  },
  {
   "cell_type": "markdown",
   "metadata": {},
   "source": [
    "### 2.2 Autosomes (adjusted for sex +10 PC)"
   ]
  },
  {
   "cell_type": "code",
   "execution_count": 21,
   "metadata": {},
   "outputs": [
    {
     "name": "stdout",
     "output_type": "stream",
     "text": [
      "Overwriting /emc/cbmr/users/mjl259/project_EGG/script/SNPTEST_Roskilde_CHILD_BW_PW_SEX_adj.sh\n"
     ]
    }
   ],
   "source": [
    "%%writefile $workdir/script/SNPTEST_Roskilde_CHILD_BW_PW_SEX_adj.sh\n",
    "#!/bin/bash\n",
    "#$ -S /bin/bash\n",
    "#$ -cwd\n",
    "#$ -pe smp 2\n",
    "#$ -N SNPTest\n",
    "\n",
    "pheno=${p}\n",
    "chr=${c}\n",
    "pathgeno=${pg}\n",
    "workdir=${w}\n",
    "\n",
    "/oldhome/tdr438/snptest_v2.5.2/snptest_v2.5.2 -data ${pathgeno}/chr${chr}.dose.vcf.gz ${workdir}/phenotype/Roskilde_CHILD_rerun/Roskilde_BW_PW_sex_GA_PC1-10_ordered_header.sample \\\n",
    "    -o ${workdir}/results/Roskilde_CHILD_rerun/SNPTest_Roskilde_CHILD_chr${chr}_${pheno}_sex_adj.out \\\n",
    "    -genotype_field GP \\\n",
    "    -frequentist 1 \\\n",
    "    -method expected \\\n",
    "    -pheno ${pheno} \\\n",
    "    -cov_names sex PC1 PC2 PC3 PC4 PC5 PC6 PC7 PC8 PC9 PC10 \\\n",
    "    -hwe"
   ]
  },
  {
   "cell_type": "code",
   "execution_count": 22,
   "metadata": {},
   "outputs": [
    {
     "name": "stdout",
     "output_type": "stream",
     "text": [
      "Your job 6818028 (\"SNPTest\") has been submitted\n",
      "Your job 6818029 (\"SNPTest\") has been submitted\n",
      "Your job 6818030 (\"SNPTest\") has been submitted\n",
      "Your job 6818031 (\"SNPTest\") has been submitted\n",
      "Your job 6818032 (\"SNPTest\") has been submitted\n",
      "Your job 6818033 (\"SNPTest\") has been submitted\n",
      "Your job 6818034 (\"SNPTest\") has been submitted\n",
      "Your job 6818035 (\"SNPTest\") has been submitted\n",
      "Your job 6818036 (\"SNPTest\") has been submitted\n",
      "Your job 6818037 (\"SNPTest\") has been submitted\n",
      "Your job 6818038 (\"SNPTest\") has been submitted\n",
      "Your job 6818039 (\"SNPTest\") has been submitted\n",
      "Your job 6818040 (\"SNPTest\") has been submitted\n",
      "Your job 6818041 (\"SNPTest\") has been submitted\n",
      "Your job 6818042 (\"SNPTest\") has been submitted\n",
      "Your job 6818043 (\"SNPTest\") has been submitted\n",
      "Your job 6818044 (\"SNPTest\") has been submitted\n",
      "Your job 6818045 (\"SNPTest\") has been submitted\n",
      "Your job 6818046 (\"SNPTest\") has been submitted\n",
      "Your job 6818047 (\"SNPTest\") has been submitted\n",
      "Your job 6818048 (\"SNPTest\") has been submitted\n",
      "Your job 6818049 (\"SNPTest\") has been submitted\n",
      "Your job 6818050 (\"SNPTest\") has been submitted\n",
      "Your job 6818051 (\"SNPTest\") has been submitted\n",
      "Your job 6818052 (\"SNPTest\") has been submitted\n",
      "Your job 6818053 (\"SNPTest\") has been submitted\n",
      "Your job 6818054 (\"SNPTest\") has been submitted\n",
      "Your job 6818055 (\"SNPTest\") has been submitted\n",
      "Your job 6818056 (\"SNPTest\") has been submitted\n",
      "Your job 6818057 (\"SNPTest\") has been submitted\n",
      "Your job 6818058 (\"SNPTest\") has been submitted\n",
      "Your job 6818059 (\"SNPTest\") has been submitted\n",
      "Your job 6818060 (\"SNPTest\") has been submitted\n",
      "Your job 6818061 (\"SNPTest\") has been submitted\n",
      "Your job 6818062 (\"SNPTest\") has been submitted\n",
      "Your job 6818063 (\"SNPTest\") has been submitted\n",
      "Your job 6818064 (\"SNPTest\") has been submitted\n",
      "Your job 6818065 (\"SNPTest\") has been submitted\n",
      "Your job 6818066 (\"SNPTest\") has been submitted\n",
      "Your job 6818067 (\"SNPTest\") has been submitted\n",
      "Your job 6818068 (\"SNPTest\") has been submitted\n",
      "Your job 6818069 (\"SNPTest\") has been submitted\n",
      "Your job 6818070 (\"SNPTest\") has been submitted\n",
      "Your job 6818071 (\"SNPTest\") has been submitted\n"
     ]
    }
   ],
   "source": [
    "%%bash -s \"$workdir\" \"$pathgeno\" \"$pathpheno\"  \n",
    ". /home/mjl259/.bashrc\n",
    "\n",
    "script=\"$1/script/SNPTEST_Roskilde_CHILD_BW_PW_SEX_adj.sh\"\n",
    "declare -a phenos=(\"BW\" \"PW\")\n",
    "for pheno in \"${phenos[@]}\"; do # loop through each pheno\n",
    "for chr in {1..22}; do # loop through each chr\n",
    "qsub -q long.q -v p=${pheno},c=${chr},pg=$2,w=$1 -e $1/log/SNPTest_Roskild_CHILD_rerun_${pheno}_chr${chr}_sex_adj.e -o $1/log/SNPTest_Roskild_CHILD_rerun_${pheno}_chr${chr}_sex_adj.o \"$script\";\n",
    "done;\n",
    "done"
   ]
  },
  {
   "cell_type": "markdown",
   "metadata": {},
   "source": [
    "### 2.3 X chromosome (adjusted for sex and gest_age +10 PC)"
   ]
  },
  {
   "cell_type": "code",
   "execution_count": 5,
   "metadata": {},
   "outputs": [
    {
     "name": "stdout",
     "output_type": "stream",
     "text": [
      "Overwriting /emc/cbmr/users/mjl259/project_EGG/script/SNPTEST_Roskilde_chrX_recoded_CHILD_BW_PW_SEX_GA_adj.sh\n"
     ]
    }
   ],
   "source": [
    "%%writefile $workdir/script/SNPTEST_Roskilde_chrX_recoded_CHILD_BW_PW_SEX_GA_adj.sh\n",
    "#!/bin/bash\n",
    "#$ -S /bin/bash\n",
    "#$ -cwd\n",
    "#$ -pe smp 8\n",
    "#$ -N SNPTest_X\n",
    "\n",
    "pheno=${p}\n",
    "pathgeno=${pg}\n",
    "workdir=${w}\n",
    "\n",
    "/oldhome/tdr438/snptest_v2.5.2/snptest_v2.5.2 \\\n",
    "    -data ${workdir}/genotype/Roskilde_CHILD_rerun/joinedSexChrX.gen.gz \\\n",
    "          ${workdir}/phenotype/Roskilde_CHILD_rerun/Roskilde_chrX_BW_PW_sex_GA_PC1-10_ordered_header.sample \\\n",
    "    -o ${workdir}/results/Roskilde_CHILD_rerun/ChrX/SNPTest_Roskilde_CHILD_chrX_recoded_${pheno}_sex_GA_adj.out \\\n",
    "    -genotype_field GP \\\n",
    "    -frequentist 1 \\\n",
    "    -method expected \\\n",
    "    -pheno ${pheno} \\\n",
    "    -cov_names sex GA PC1 PC2 PC3 PC4 PC5 PC6 PC7 PC8 PC9 PC10 \\\n",
    "    -hwe"
   ]
  },
  {
   "cell_type": "code",
   "execution_count": 6,
   "metadata": {},
   "outputs": [
    {
     "name": "stdout",
     "output_type": "stream",
     "text": [
      "Your job 6817909 (\"SNPTest_X\") has been submitted\n",
      "Your job 6817910 (\"SNPTest_X\") has been submitted\n"
     ]
    }
   ],
   "source": [
    "%%bash -s \"$workdir\" \"$pathgeno\" \"$pathpheno\"  \n",
    ". /home/mjl259/.bashrc\n",
    "\n",
    "script=\"$1/script/SNPTEST_Roskilde_chrX_recoded_CHILD_BW_PW_SEX_GA_adj.sh\"\n",
    "declare -a phenos=(\"BW\" \"PW\")\n",
    "for pheno in \"${phenos[@]}\"; do # loop through each pheno\n",
    "qsub -q long.q -v p=${pheno},pg=$2,w=$1 -e $1/log/SNPTest_Roskilde_CHILD_recoded_${pheno}_chrX_sex_GA_adj.e -o $1/log/SNPTest_Roskilde_CHILD_recoded_${pheno}_chrX_sex_GA_adj.o \"$script\";\n",
    "done"
   ]
  },
  {
   "cell_type": "markdown",
   "metadata": {},
   "source": [
    "### 2.4 X chromosome (adjusted for sex +10 PC)"
   ]
  },
  {
   "cell_type": "code",
   "execution_count": 54,
   "metadata": {},
   "outputs": [
    {
     "name": "stdout",
     "output_type": "stream",
     "text": [
      "Overwriting /emc/cbmr/users/mjl259/project_EGG/script/SNPTEST_Roskilde_chrX_recoded_CHILD_BW_PW_SEX_adj.sh\n"
     ]
    }
   ],
   "source": [
    "%%writefile $workdir/script/SNPTEST_Roskilde_chrX_recoded_CHILD_BW_PW_SEX_adj.sh\n",
    "#!/bin/bash\n",
    "#$ -S /bin/bash\n",
    "#$ -cwd\n",
    "#$ -pe smp 8\n",
    "#$ -N SNPTest_X\n",
    "\n",
    "pheno=${p}\n",
    "pathgeno=${pg}\n",
    "workdir=${w}\n",
    "\n",
    "/oldhome/tdr438/snptest_v2.5.2/snptest_v2.5.2 \\\n",
    "    -data ${workdir}/genotype/Roskilde_CHILD_rerun/joinedSexChrX.gen.gz \\\n",
    "          ${workdir}/phenotype/Roskilde_CHILD_rerun/Roskilde_chrX_BW_PW_sex_GA_PC1-10_ordered_header.sample \\\n",
    "    -o ${workdir}/results/Roskilde_CHILD_rerun/ChrX/SNPTest_Roskilde_CHILD_chrX_recoded_${pheno}_sex_GA_adj.out \\\n",
    "    -genotype_field GP \\\n",
    "    -frequentist 1 \\\n",
    "    -method expected \\\n",
    "    -pheno ${pheno} \\\n",
    "    -cov_names sex PC1 PC2 PC3 PC4 PC5 PC6 PC7 PC8 PC9 PC10 \\\n",
    "    -hwe"
   ]
  },
  {
   "cell_type": "code",
   "execution_count": 55,
   "metadata": {},
   "outputs": [
    {
     "name": "stdout",
     "output_type": "stream",
     "text": [
      "Your job 6818226 (\"SNPTest_X\") has been submitted\n",
      "Your job 6818227 (\"SNPTest_X\") has been submitted\n"
     ]
    }
   ],
   "source": [
    "%%bash -s \"$workdir\" \"$pathgeno\" \"$pathpheno\"  \n",
    ". /home/mjl259/.bashrc\n",
    "\n",
    "script=\"$1/script/SNPTEST_Roskilde_chrX_recoded_CHILD_BW_PW_SEX_adj.sh\"\n",
    "declare -a phenos=(\"BW\" \"PW\")\n",
    "for pheno in \"${phenos[@]}\"; do # loop through each pheno\n",
    "qsub -q long.q -v p=${pheno},pg=$2,w=$1 -e $1/log/SNPTest_Roskilde_CHILD_recoded_${pheno}_chrX_sex_adj.e -o $1/log/SNPTest_Roskilde_CHILD_recoded_${pheno}_chrX_sex_adj.o \"$script\";\n",
    "done"
   ]
  },
  {
   "cell_type": "markdown",
   "metadata": {},
   "source": [
    "### 2.5 X chromosome (binary trait adjusted for sex and gest_age + 10 PC)"
   ]
  },
  {
   "cell_type": "code",
   "execution_count": 10,
   "metadata": {},
   "outputs": [
    {
     "name": "stdout",
     "output_type": "stream",
     "text": [
      "Overwriting /emc/cbmr/users/mjl259/project_EGG/script/SNPTEST_Roskilde_CHILD_Binary_SEX_GA_adj_XCHROM.sh\n"
     ]
    }
   ],
   "source": [
    "%%writefile $workdir/script/SNPTEST_Roskilde_CHILD_Binary_SEX_GA_adj_XCHROM.sh\n",
    "#!/bin/bash\n",
    "#$ -S /bin/bash\n",
    "#$ -cwd\n",
    "#$ -pe smp 2\n",
    "#$ -N SNPTest_X_B\n",
    "\n",
    "pathgeno=${pg}\n",
    "workdir=${w}\n",
    "\n",
    "# Cannot use GP for #method newml have to be GT\n",
    "   \n",
    "/oldhome/tdr438/snptest_v2.5.2/snptest_v2.5.2 \\\n",
    "    -data ${pathgeno}/chrX.dose.vcf.gz \\ \n",
    "          ${workdir}/phenotype/Roskilde_CHILD_rerun/Roskilde_Binary_sex_GA_PC1-10_ordered_header.sample \\\n",
    "    -o ${workdir}/results/Roskilde_CHILD_rerun/ChrX/SNPTest_Roskilde_CHILD_chrX_Binary_sex_GA_adj.out \\\n",
    "    -genotype_field GT \\\n",
    "    -frequentist 1 \\\n",
    "    -method newml \\\n",
    "    -pheno Binary \\\n",
    "    -cov_names sex GA PC1 PC2 PC3 PC4 PC5 PC6 PC7 PC8 PC9 PC10 \\\n",
    "    -hwe"
   ]
  },
  {
   "cell_type": "code",
   "execution_count": 11,
   "metadata": {},
   "outputs": [
    {
     "name": "stdout",
     "output_type": "stream",
     "text": [
      "Your job 6854697 (\"SNPTest_X_B\") has been submitted\n"
     ]
    }
   ],
   "source": [
    "%%bash -s \"$workdir\" \"$pathgeno\" \"$pathpheno\"  \n",
    ". /home/mjl259/.bashrc\n",
    "\n",
    "script=\"$1/script/SNPTEST_Roskilde_CHILD_Binary_SEX_GA_adj_XCHROM.sh\"\n",
    "qsub -q long.q -v pg=$2,w=$1 -e $1/log/SNPTEST_Roskild_CHILD_rerun_Binary_chrX_sex_GA_adj.e -o $1/log/SNPTEST_Roskild_CHILD_rerun_Binary_chrX_sex_GA_adj.o \"$script\""
   ]
  },
  {
   "cell_type": "code",
   "execution_count": 8,
   "metadata": {},
   "outputs": [
    {
     "name": "stdout",
     "output_type": "stream",
     "text": [
      "Overwriting /emc/cbmr/users/mjl259/project_EGG/script/SNPTEST_Roskilde_CHILD_Binary_SEX_adj_XCHROM.sh\n"
     ]
    }
   ],
   "source": [
    "%%writefile $workdir/script/SNPTEST_Roskilde_CHILD_Binary_SEX_adj_XCHROM.sh\n",
    "#!/bin/bash\n",
    "#$ -S /bin/bash\n",
    "#$ -cwd\n",
    "#$ -pe smp 2\n",
    "#$ -N SNPTest_X_B\n",
    "\n",
    "pathgeno=${pg}\n",
    "workdir=${w}\n",
    "\n",
    "# Cannot use GP for #method newml have to be GT\n",
    "   \n",
    "/oldhome/tdr438/snptest_v2.5.2/snptest_v2.5.2 \\\n",
    "    -data ${pathgeno}/chrX.dose.vcf.gz \\\n",
    "          ${workdir}/phenotype/Roskilde_CHILD_rerun/Roskilde_Binary_sex_GA_PC1-10_ordered_header.sample \\\n",
    "    -o ${workdir}/results/Roskilde_CHILD_rerun/ChrX/SNPTest_Roskilde_CHILD_chrX_Binary_sex_adj.out \\\n",
    "    -genotype_field GT \\\n",
    "    -frequentist 1 \\\n",
    "    -method newml \\\n",
    "    -pheno Binary \\\n",
    "    -cov_names sex PC1 PC2 PC3 PC4 PC5 PC6 PC7 PC8 PC9 PC10 \\\n",
    "    -hwe"
   ]
  },
  {
   "cell_type": "code",
   "execution_count": 9,
   "metadata": {},
   "outputs": [
    {
     "name": "stdout",
     "output_type": "stream",
     "text": [
      "Your job 6854696 (\"SNPTest_X_B\") has been submitted\n"
     ]
    }
   ],
   "source": [
    "%%bash -s \"$workdir\" \"$pathgeno\" \"$pathpheno\"  \n",
    ". /home/mjl259/.bashrc\n",
    "\n",
    "script=\"$1/script/SNPTEST_Roskilde_CHILD_Binary_SEX_adj_XCHROM.sh\"\n",
    "qsub -q long.q -v pg=$2,w=$1 -e $1/log/SNPTEST_Roskild_CHILD_rerun_Binary_chrX_sex_adj.e -o $1/log/SNPTEST_Roskild_CHILD_rerun_Binary_chrX_sex_adj.o \"$script\""
   ]
  },
  {
   "cell_type": "markdown",
   "metadata": {},
   "source": [
    "## 3. Merge SNPTEST results"
   ]
  },
  {
   "cell_type": "markdown",
   "metadata": {},
   "source": [
    "### 3.1 Combine chromosome 1-22"
   ]
  },
  {
   "cell_type": "code",
   "execution_count": 23,
   "metadata": {},
   "outputs": [
    {
     "name": "stdout",
     "output_type": "stream",
     "text": [
      "Overwriting /emc/cbmr/users/mjl259/project_EGG/script/Merge_SNPTEST_output_Roskilde_CHILD.sh\n"
     ]
    }
   ],
   "source": [
    "%%writefile $workdir/script/Merge_SNPTEST_output_Roskilde_CHILD.sh\n",
    "#$ -S /bin/bash\n",
    "#$ -N Merge\n",
    "#$ -cwd\n",
    "#$ -pe smp 2\n",
    "\n",
    "workdir=${wd}\n",
    "pheno=${pe}\n",
    "\n",
    "# Merges all chromsosomes together\n",
    "cat ${workdir}/results/Roskilde_CHILD_rerun/SNPTest_Roskilde_CHILD_chr*_${pheno}.out > \\\n",
    "${workdir}/results/Roskilde_CHILD_rerun/merged/SNPTest_Roskilde_CHILD_merged_${pheno}.tmp\n",
    "\n",
    "# Adds header from SNPTEST at the top\n",
    "cat ${workdir}/results/Roskilde_CHILD_rerun/merged/header \\\n",
    "<(grep -v -f ${workdir}/results/Roskilde_CHILD_rerun/merged/header \\\n",
    "  ${workdir}/results/Roskilde_CHILD_rerun/merged/SNPTest_Roskilde_CHILD_merged_${pheno}.tmp | grep -v '==>' ) > \\\n",
    "  ${workdir}/results/Roskilde_CHILD_rerun/merged/SNPTest_Roskilde_CHILD_merged_${pheno}; \\\n",
    "\n",
    "rm ${workdir}/results/Roskilde_CHILD_rerun/merged/SNPTest_Roskilde_CHILD_merged_${pheno}.tmp\n",
    "\n",
    "# Removes text with hashtag\n",
    "grep -v '^#' ${workdir}/results/Roskilde_CHILD_rerun/merged/SNPTest_Roskilde_CHILD_merged_${pheno} > \\\n",
    "${workdir}/results/Roskilde_CHILD_rerun/merged/SNPTest_Roskilde_CHILD_merged_${pheno}.tmp ; \\\n",
    "\n",
    "mv  ${workdir}/results/Roskilde_CHILD_rerun/merged/SNPTest_Roskilde_CHILD_merged_${pheno}.tmp  \\\n",
    "${workdir}/results/Roskilde_CHILD_rerun/merged/SNPTest_Roskilde_CHILD_merged_${pheno}"
   ]
  },
  {
   "cell_type": "code",
   "execution_count": 24,
   "metadata": {},
   "outputs": [
    {
     "name": "stdout",
     "output_type": "stream",
     "text": [
      "Your job 6865988 (\"Merge\") has been submitted\n",
      "Your job 6865989 (\"Merge\") has been submitted\n",
      "Your job 6865990 (\"Merge\") has been submitted\n",
      "Your job 6865991 (\"Merge\") has been submitted\n"
     ]
    }
   ],
   "source": [
    "%%bash -s \"$workdir\" \n",
    ". /home/mjl259/.bashrc\n",
    "\n",
    "script=\"$1/script/Merge_SNPTEST_output_Roskilde_CHILD.sh\"\n",
    "declare -a phenos=(\"BW_sex_GA_adj\" \"BW_sex_adj\" \"PW_sex_GA_adj\" \"PW_sex_adj\")\n",
    "for pheno in \"${phenos[@]}\"; do\n",
    "qsub -q long.q -v pe=${pheno},wd=$1 -e $1/log/Merged_Roskilde_CHILD_${pheno}.e -o $1/log/Merged_Roskilde_CHILD_${pheno}.o \"$script\";\n",
    "done"
   ]
  },
  {
   "cell_type": "markdown",
   "metadata": {},
   "source": [
    "## 4. Remove SNPS without associations / monomorphic"
   ]
  },
  {
   "cell_type": "markdown",
   "metadata": {},
   "source": [
    "### 4.1 Autosomes"
   ]
  },
  {
   "cell_type": "code",
   "execution_count": 35,
   "metadata": {},
   "outputs": [
    {
     "name": "stdout",
     "output_type": "stream",
     "text": [
      "Overwriting /emc/cbmr/users/mjl259/project_EGG/script/Remove_NA_monomorphic_Roskilde_CHILD.sh\n"
     ]
    }
   ],
   "source": [
    "%%writefile $workdir/script/Remove_NA_monomorphic_Roskilde_CHILD.sh\n",
    "#$ -S /bin/bash\n",
    "#$ -N Remove_NA\n",
    "#$ -cwd\n",
    "#$ -pe smp 2\n",
    "\n",
    "workdir=${wd}\n",
    "pheno=${pe}\n",
    "\n",
    "# column 22 = PVAL\n",
    "gawk -F ' ' '$22 != \"NA\"{ print}' ${workdir}/results/Roskilde_CHILD_rerun/merged/SNPTest_Roskilde_CHILD_merged_${pheno}  > \\\n",
    "${workdir}/results/Roskilde_CHILD_rerun/merged/SNPTEST_Roskilde_CHILD_merged_${pheno}_noNA.tmp\n",
    "\n",
    "# column 19 = MAF_all\n",
    "gawk -F ' ' '$19 != \"0\"{ print}' ${workdir}/results/Roskilde_CHILD_rerun/merged/SNPTEST_Roskilde_CHILD_merged_${pheno}_noNA.tmp  > \\\n",
    "${workdir}/results/Roskilde_CHILD_rerun/merged/SNPTEST_Roskilde_CHILD_merged_${pheno}_noNA_MAF.txt"
   ]
  },
  {
   "cell_type": "code",
   "execution_count": 36,
   "metadata": {},
   "outputs": [
    {
     "name": "stdout",
     "output_type": "stream",
     "text": [
      "Your job 6818191 (\"Remove_NA\") has been submitted\n",
      "Your job 6818192 (\"Remove_NA\") has been submitted\n",
      "Your job 6818193 (\"Remove_NA\") has been submitted\n",
      "Your job 6818194 (\"Remove_NA\") has been submitted\n"
     ]
    }
   ],
   "source": [
    "%%bash -s \"$workdir\" \n",
    ". /home/mjl259/.bashrc\n",
    "\n",
    "script=\"$1/script/Remove_NA_monomorphic_Roskilde_CHILD.sh\"\n",
    "declare -a phenos=(\"BW_sex_GA_adj\" \"BW_sex_adj\" \"PW_sex_GA_adj\" \"PW_sex_adj\")\n",
    "for pheno in \"${phenos[@]}\"; do\n",
    "qsub -q long.q -v pe=${pheno},wd=$1 -e $1/log/Remove_NA_monomorphic_Roskilde_${pheno}.e -o $1/log/Remove_NA_monomorphic_Roskilde_${pheno}.o \"$script\";\n",
    "done"
   ]
  },
  {
   "cell_type": "markdown",
   "metadata": {},
   "source": [
    "### 4.2 X chromosome"
   ]
  },
  {
   "cell_type": "code",
   "execution_count": 56,
   "metadata": {},
   "outputs": [
    {
     "name": "stdout",
     "output_type": "stream",
     "text": [
      "Overwriting /emc/cbmr/users/mjl259/project_EGG/script/Remove_NA_monomorphic_chrX_Roskilde_CHILD.sh\n"
     ]
    }
   ],
   "source": [
    "%%writefile $workdir/script/Remove_NA_monomorphic_chrX_Roskilde_CHILD.sh\n",
    "#$ -S /bin/bash\n",
    "#$ -N Remove_NA\n",
    "#$ -cwd\n",
    "#$ -pe smp 2\n",
    "\n",
    "workdir=${wd}\n",
    "pheno=${pe}\n",
    "\n",
    "# Adds header from SNPTEST at the top\n",
    "cat ${workdir}/results/Roskilde_CHILD_rerun/merged/header \\\n",
    "<(grep -v -f ${workdir}/results/Roskilde_CHILD_rerun/merged/header \\\n",
    "  ${workdir}/results/Roskilde_CHILD_rerun/ChrX/SNPTest_Roskilde_CHILD_chrX_recoded_${pheno}.out | grep -v '==>' ) > \\\n",
    "${workdir}/results/Roskilde_CHILD_rerun/ChrX/SNPTest_Roskilde_CHILD_chrX_recoded_${pheno}\n",
    "\n",
    "# Removes text with hashtag\n",
    "grep -v '^#'  ${workdir}/results/Roskilde_CHILD_rerun/ChrX/SNPTest_Roskilde_CHILD_chrX_recoded_${pheno} >  \\\n",
    "${workdir}/results/Roskilde_CHILD_rerun/ChrX/SNPTest_Roskilde_CHILD_chrX_recoded_${pheno}.tmp ; \\\n",
    "mv ${workdir}/results/Roskilde_CHILD_rerun/ChrX/SNPTest_Roskilde_CHILD_chrX_recoded_${pheno}.tmp  \\\n",
    "${workdir}/results/Roskilde_CHILD_rerun/ChrX/SNPTest_Roskilde_CHILD_chrX_recoded_${pheno}\n",
    "\n",
    "# column 22 = PVAL\n",
    "gawk -F ' ' '$22 != \"NA\"{ print}' ${workdir}/results/Roskilde_CHILD_rerun/ChrX/SNPTest_Roskilde_CHILD_chrX_recoded_${pheno} > \\\n",
    "${workdir}/results/Roskilde_CHILD_rerun/ChrX/SNPTest_Roskilde_CHILD_chrX_recoded_${pheno}_noNA\n",
    "\n",
    "# column 19 = MAF_all\n",
    "gawk -F ' ' '$19 != \"0\"{ print}' ${workdir}/results/Roskilde_CHILD_rerun/ChrX/SNPTest_Roskilde_CHILD_chrX_recoded_${pheno}_noNA > \\\n",
    "${workdir}/results/Roskilde_CHILD_rerun/ChrX/SNPTest_Roskilde_CHILD_chrX_recoded_${pheno}_noNA_MAF.txt"
   ]
  },
  {
   "cell_type": "code",
   "execution_count": 57,
   "metadata": {},
   "outputs": [
    {
     "name": "stdout",
     "output_type": "stream",
     "text": [
      "Your job 6818230 (\"Remove_NA\") has been submitted\n",
      "Your job 6818231 (\"Remove_NA\") has been submitted\n",
      "Your job 6818232 (\"Remove_NA\") has been submitted\n",
      "Your job 6818233 (\"Remove_NA\") has been submitted\n"
     ]
    }
   ],
   "source": [
    "%%bash -s \"$workdir\" \n",
    ". /home/mjl259/.bashrc\n",
    "\n",
    "script=\"$1/script/Remove_NA_monomorphic_chrX_Roskilde_CHILD.sh\"\n",
    "declare -a phenos=(\"BW_sex_GA_adj\" \"BW_sex_adj\" \"PW_sex_GA_adj\" \"PW_sex_adj\")\n",
    "for pheno in \"${phenos[@]}\"; do\n",
    "qsub -q long.q -v pe=${pheno},wd=$1 -e $1/log/Remove_NA_monomorphic_chrX_Roskilde_${pheno}.e -o $1/log/Remove_NA_monomorphic_chrX_Roskilde_${pheno}.o \"$script\";\n",
    "done"
   ]
  },
  {
   "cell_type": "markdown",
   "metadata": {},
   "source": [
    "### 4.3 Format X chromosome binary trait results"
   ]
  },
  {
   "cell_type": "code",
   "execution_count": 6,
   "metadata": {},
   "outputs": [
    {
     "name": "stdout",
     "output_type": "stream",
     "text": [
      "Writing /emc/cbmr/users/mjl259/project_EGG/script/Format_binary_chrX_sex_adj_Roskilde_CHILD.sh\n"
     ]
    }
   ],
   "source": [
    "%%writefile $workdir/script/Format_binary_chrX_sex_adj_Roskilde_CHILD.sh\n",
    "#$ -S /bin/bash\n",
    "#$ -N Org_X\n",
    "#$ -cwd\n",
    "#$ -pe smp 2\n",
    "\n",
    "workdir=${wd}\n",
    "pheno=${pe}\n",
    "\n",
    "# Adds header from SNPTEST at the top\n",
    "cat ${workdir}/results/Roskilde_CHILD_rerun/ChrX/header_binary.txt \\\n",
    "<(grep -v -f ${workdir}/results/Roskilde_CHILD_rerun/ChrX/header_binary.txt \\\n",
    "  ${workdir}/results/Roskilde_CHILD_rerun/ChrX/SNPTest_Roskilde_CHILD_chrX_Binary_sex_adj.out | grep -v '==>' ) > \\\n",
    "${workdir}/results/Roskilde_CHILD_rerun/ChrX/SNPTest_Roskilde_CHILD_chrX_Binary_sex_adj\n",
    "\n",
    "# Removes text with hashtag\n",
    "grep -v '^#'  ${workdir}/results/Roskilde_CHILD_rerun/ChrX/SNPTest_Roskilde_CHILD_chrX_Binary_sex_adj >  \\\n",
    "${workdir}/results/Roskilde_CHILD_rerun/ChrX/SNPTest_Roskilde_CHILD_chrX_Binary_sex_adj.tmp ; \\\n",
    "mv ${workdir}/results/Roskilde_CHILD_rerun/ChrX/SNPTest_Roskilde_CHILD_chrX_Binary_sex_adj.tmp  \\\n",
    "${workdir}/results/Roskilde_CHILD_rerun/ChrX/SNPTest_Roskilde_CHILD_chrX_Binary_sex_adj.txt"
   ]
  },
  {
   "cell_type": "code",
   "execution_count": 7,
   "metadata": {},
   "outputs": [
    {
     "name": "stdout",
     "output_type": "stream",
     "text": [
      "Your job 6854769 (\"Org_X\") has been submitted\n"
     ]
    }
   ],
   "source": [
    "%%bash -s \"$workdir\" \n",
    ". /home/mjl259/.bashrc\n",
    "\n",
    "script=\"$1/script/Format_binary_chrX_sex_adj_Roskilde_CHILD.sh\"\n",
    "qsub -q long.q -v wd=$1 -e $1/log/Format_chrX_Roskilde_Binary_sex_adj.e -o $1/log/Format_chrX_Roskilde_Binary_sex_adj.o \"$script\""
   ]
  },
  {
   "cell_type": "code",
   "execution_count": 14,
   "metadata": {},
   "outputs": [
    {
     "name": "stdout",
     "output_type": "stream",
     "text": [
      "Writing /emc/cbmr/users/mjl259/project_EGG/script/Format_binary_chrX_sex_adj_Roskilde_CHILD_stratify_by_sex.sh\n"
     ]
    }
   ],
   "source": [
    "%%writefile $workdir/script/Format_binary_chrX_sex_adj_Roskilde_CHILD_stratify_by_sex.sh\n",
    "#$ -S /bin/bash\n",
    "#$ -N Org_X\n",
    "#$ -cwd\n",
    "#$ -pe smp 2\n",
    "\n",
    "workdir=${wd}\n",
    "pheno=${pe}\n",
    "\n",
    "# Adds header from SNPTEST at the top\n",
    "cat ${workdir}/results/Roskilde_CHILD_rerun/ChrX/header_binary.txt \\\n",
    "<(grep -v -f ${workdir}/results/Roskilde_CHILD_rerun/ChrX/header_binary.txt \\\n",
    "  ${workdir}/results/Roskilde_CHILD_rerun/ChrX/SNPTest_Roskilde_CHILD_chrX_Binary_sex_GA_adj_stratify_sex.out | grep -v '==>' ) > \\\n",
    "${workdir}/results/Roskilde_CHILD_rerun/ChrX/SNPTest_Roskilde_CHILD_chrX_Binary_sex_GA_adj_stratify_sex\n",
    "\n",
    "# Removes text with hashtag\n",
    "grep -v '^#'  ${workdir}/results/Roskilde_CHILD_rerun/ChrX/SNPTest_Roskilde_CHILD_chrX_Binary_sex_GA_adj_stratify_sex >  \\\n",
    "${workdir}/results/Roskilde_CHILD_rerun/ChrX/SNPTest_Roskilde_CHILD_chrX_Binary_sex_GA_adj_stratify_sex.tmp ; \\\n",
    "mv ${workdir}/results/Roskilde_CHILD_rerun/ChrX/SNPTest_Roskilde_CHILD_chrX_Binary_sex_GA_adj_stratify_sex.tmp  \\\n",
    "${workdir}/results/Roskilde_CHILD_rerun/ChrX/SNPTest_Roskilde_CHILD_chrX_Binary_sex_GA_adj_stratify_sex.txt"
   ]
  },
  {
   "cell_type": "code",
   "execution_count": 15,
   "metadata": {},
   "outputs": [
    {
     "name": "stdout",
     "output_type": "stream",
     "text": [
      "Your job 6854779 (\"Org_X\") has been submitted\n"
     ]
    }
   ],
   "source": [
    "%%bash -s \"$workdir\" \n",
    ". /home/mjl259/.bashrc\n",
    "\n",
    "script=\"$1/script/Format_binary_chrX_sex_adj_Roskilde_CHILD_stratify_by_sex.sh\"\n",
    "qsub -q long.q -v wd=$1 -e $1/log/Format_chrX_Roskilde_Binary_sex_adj_stratify.e \\\n",
    "-o $1/log/Format_chrX_Roskilde_Binary_sex_adj_stratify.o \"$script\""
   ]
  },
  {
   "cell_type": "markdown",
   "metadata": {},
   "source": [
    "## 5. Organize SNPTEST results"
   ]
  },
  {
   "cell_type": "markdown",
   "metadata": {},
   "source": [
    "### 5.1 Autosomes"
   ]
  },
  {
   "cell_type": "code",
   "execution_count": 4,
   "metadata": {},
   "outputs": [
    {
     "name": "stdout",
     "output_type": "stream",
     "text": [
      "Overwriting /emc/cbmr/users/mjl259/project_EGG/script/organize_upload_Roskilde_CHILD.sh\n"
     ]
    }
   ],
   "source": [
    "%%writefile $workdir/script/organize_upload_Roskilde_CHILD.sh\n",
    "#$ -S /bin/bash\n",
    "#$ -N Org_upload\n",
    "#$ -cwd\n",
    "#$ -pe smp 4\n",
    "\n",
    "workdir=${wd}\n",
    "pheno=${pe}\n",
    "\n",
    "# Remove header\n",
    "sed 1d ${workdir}/results/Roskilde_CHILD_rerun/merged/SNPTEST_Roskilde_CHILD_merged_${pheno}_noNA_MAF.txt > \\\n",
    "${workdir}/results/Roskilde_CHILD_rerun/merged/SNPTEST_Roskilde_CHILD_merged_${pheno}_wo_header.tmp\n",
    "\n",
    "# Round to 4 decimal places\n",
    "awk -v OFS='\\t' '{printf(\"%s %s %s %s %s %s %s %s %.0f %.0f %.0f %.4f %.4g %.4f %.4f %.4g\\n\", $1, \"+\", \"37\", $3, $4, $6, $5, $18, $14, $15, $16, (($16*2 + $15)/($18*2)), $21, $24, $25, $22) }' \\\n",
    "${workdir}/results/Roskilde_CHILD_rerun/merged/SNPTEST_Roskilde_CHILD_merged_${pheno}_wo_header.tmp > \\\n",
    "${workdir}/results/Roskilde_CHILD_rerun/merged/SNPTEST_Roskilde_CHILD_merged_${pheno}_order.tmp\n",
    "\n",
    "#Print tab-delimited\n",
    "awk -v OFS='\\t' '{print $1, $2, $3, $4, $5, $6, $7, $8, $9, $10, $11, $12, $13, $14, $15, $16}' \\\n",
    "${workdir}/results/Roskilde_CHILD_rerun/merged/SNPTEST_Roskilde_CHILD_merged_${pheno}_order.tmp > \\\n",
    "${workdir}/results/Roskilde_CHILD_rerun/merged/SNPTEST_Roskilde_CHILD_merged_${pheno}_tab.tmp\n",
    "\n",
    "# Add header\n",
    "{ echo -e \"SNPID\\tSTRAND\\tBUILD\\tCHR\\tPOS\\tEFFECT_ALLELE\\tNON_EFFECT_ALLELE\\tN\\tN0\\tN1\\tN2\\tEAF\\tHWE_P\\tBETA\\tSE\\tPVAL\"; \\\n",
    " cat ${workdir}/results/Roskilde_CHILD_rerun/merged/SNPTEST_Roskilde_CHILD_merged_${pheno}_tab.tmp; } > \\\n",
    " ${workdir}/results/Roskilde_CHILD_rerun/merged/SNPTEST_Roskilde_CHILD_merged_${pheno}_header.txt"
   ]
  },
  {
   "cell_type": "code",
   "execution_count": 5,
   "metadata": {},
   "outputs": [
    {
     "name": "stdout",
     "output_type": "stream",
     "text": [
      "Your job 6918362 (\"Org_upload\") has been submitted\n",
      "Your job 6918363 (\"Org_upload\") has been submitted\n",
      "Your job 6918364 (\"Org_upload\") has been submitted\n",
      "Your job 6918365 (\"Org_upload\") has been submitted\n"
     ]
    }
   ],
   "source": [
    "%%bash -s \"$workdir\" \n",
    ". /home/mjl259/.bashrc\n",
    "\n",
    "script=\"$1/script/organize_upload_Roskilde_CHILD.sh\"\n",
    "declare -a phenos=(\"BW_sex_GA_adj\" \"BW_sex_adj\" \"PW_sex_GA_adj\" \"PW_sex_adj\")\n",
    "for pheno in \"${phenos[@]}\"; do\n",
    "qsub -q all.q -v pe=${pheno},wd=$1 -e $1/log/organize_upload_Roskilde_CHILD_${pheno}.e -o $1/log/organize_upload_Roskilde_CHILD_${pheno}.o \"$script\";\n",
    "done"
   ]
  },
  {
   "cell_type": "markdown",
   "metadata": {},
   "source": [
    "### 5.2 X chromosome (method expected)"
   ]
  },
  {
   "cell_type": "code",
   "execution_count": 8,
   "metadata": {},
   "outputs": [
    {
     "name": "stdout",
     "output_type": "stream",
     "text": [
      "Overwriting /emc/cbmr/users/mjl259/project_EGG/script/organize_upload_chrX_Roskilde_CHILD.sh\n"
     ]
    }
   ],
   "source": [
    "%%writefile $workdir/script/organize_upload_chrX_Roskilde_CHILD.sh\n",
    "#$ -S /bin/bash\n",
    "#$ -N Org_upload\n",
    "#$ -cwd\n",
    "#$ -pe smp 4\n",
    "\n",
    "workdir=${wd}\n",
    "pheno=${pe}\n",
    "\n",
    "# Remove header\n",
    "sed 1d ${workdir}/results/Roskilde_CHILD_rerun/ChrX/SNPTest_Roskilde_CHILD_chrX_recoded_${pheno}_noNA_MAF.txt > \\\n",
    "${workdir}/results/Roskilde_CHILD_rerun/ChrX/SNPTest_Roskilde_CHILD_chrX_recoded_${pheno}_wo_header.tmp\n",
    "\n",
    "# Round to 4 decimal places\n",
    "awk -v OFS='\\t' '{printf(\"%s %s %s %s %s %s %s %s %.0f %.0f %.0f %.4g %.4f %.4f %.4g\\n\", $1, \"+\", \"37\", $3, $4, $6, $5, $18, $14, $15, $16, $21, $24, $25, $22) }' \\\n",
    "${workdir}/results/Roskilde_CHILD_rerun/ChrX/SNPTest_Roskilde_CHILD_chrX_recoded_${pheno}_wo_header.tmp > \\\n",
    "${workdir}/results/Roskilde_CHILD_rerun/ChrX/SNPTest_Roskilde_CHILD_chrX_recoded_${pheno}_order.tmp\n",
    "\n",
    "# Add header\n",
    "{ echo -e \"SNPID\\tSTRAND\\tBUILD\\tCHR\\tPOS\\tEFFECT_ALLELE\\tNON_EFFECT_ALLELE\\tN\\tN0\\tN1\\tN2\\tHWE_P\\tBETA\\tSE\\tPVAL\"; \\\n",
    " cat ${workdir}/results/Roskilde_CHILD_rerun/ChrX/SNPTest_Roskilde_CHILD_chrX_recoded_${pheno}_order.tmp; } > \\\n",
    " ${workdir}/results/Roskilde_CHILD_rerun/ChrX/SNPTest_Roskilde_CHILD_chrX_recoded_${pheno}_header.txt"
   ]
  },
  {
   "cell_type": "code",
   "execution_count": 9,
   "metadata": {},
   "outputs": [
    {
     "name": "stdout",
     "output_type": "stream",
     "text": [
      "Your job 6918370 (\"Org_upload\") has been submitted\n",
      "Your job 6918371 (\"Org_upload\") has been submitted\n",
      "Your job 6918372 (\"Org_upload\") has been submitted\n",
      "Your job 6918373 (\"Org_upload\") has been submitted\n"
     ]
    }
   ],
   "source": [
    "%%bash -s \"$workdir\" \n",
    ". /home/mjl259/.bashrc\n",
    "\n",
    "script=\"$1/script/organize_upload_chrX_Roskilde_CHILD.sh\"\n",
    "declare -a phenos=(\"BW_sex_GA_adj\" \"BW_sex_adj\" \"PW_sex_GA_adj\" \"PW_sex_adj\")\n",
    "for pheno in \"${phenos[@]}\"; do\n",
    "qsub -q all.q -v pe=${pheno}, wd=$1 -e $1/log/organize_upload_Roskilde_chrX_CHILD_${pheno}.e -o $1/log/organize_upload_Roskilde_chrX_CHILD_${pheno}.o \"$script\";\n",
    "done"
   ]
  },
  {
   "cell_type": "markdown",
   "metadata": {},
   "source": [
    "### 5.3 Calculate EAF from X chromosome (method newml)"
   ]
  },
  {
   "cell_type": "code",
   "execution_count": 33,
   "metadata": {},
   "outputs": [
    {
     "name": "stdout",
     "output_type": "stream",
     "text": [
      "Overwriting /emc/cbmr/users/mjl259/project_EGG/script/Calc_EAF_chrX_Binary_Roskilde_CHILD.sh\n"
     ]
    }
   ],
   "source": [
    "%%writefile $workdir/script/Calc_EAF_chrX_Binary_Roskilde_CHILD.sh\n",
    "#$ -S /bin/bash\n",
    "#$ -N Calc_EAF\n",
    "#$ -cwd\n",
    "#$ -pe smp 2\n",
    "\n",
    "workdir=${wd}\n",
    "\n",
    "# Remove first header\n",
    "sed 1d ${workdir}/results/Roskilde_CHILD_rerun/ChrX/SNPTest_Roskilde_CHILD_chrX_Binary.txt > \\\n",
    "${workdir}/results/Roskilde_CHILD_rerun/ChrX/SNPTest_Roskilde_CHILD_chrX_Binary_wo_header.tmp\n",
    "\n",
    "# EAF=(all_B+all_AB+2*all_BB)/(all_A+all_B+2*(all_AA+all_AB+all_BB)\n",
    "# Round to 4 decimal places & calc EAF\n",
    "awk -v OFS='\\t' '{printf(\"%s %.4f\\n\", $1, (($9+$11+2*$12)/($8+$9+2*($10+$11+$12))))}' \\\n",
    "${workdir}/results/Roskilde_CHILD_rerun/ChrX/SNPTest_Roskilde_CHILD_chrX_Binary_wo_header.tmp > \\\n",
    "${workdir}/results/Roskilde_CHILD_rerun/ChrX/SNPTest_Roskilde_CHILD_chrX_Binary_EAF.tmp\n",
    "\n",
    "# Add header\n",
    "{ echo -e \"SNPID\\tEAF\"; \\\n",
    " cat ${workdir}/results/Roskilde_CHILD_rerun/ChrX/SNPTest_Roskilde_CHILD_chrX_Binary_EAF.tmp; } > \\\n",
    " ${workdir}/results/Roskilde_CHILD_rerun/ChrX/SNPTest_Roskilde_CHILD_chrX_Binary_EAF_header.txt"
   ]
  },
  {
   "cell_type": "code",
   "execution_count": 34,
   "metadata": {},
   "outputs": [
    {
     "name": "stdout",
     "output_type": "stream",
     "text": [
      "Your job 6866025 (\"Calc_EAF\") has been submitted\n"
     ]
    }
   ],
   "source": [
    "%%bash -s \"$workdir\" \n",
    ". /home/mjl259/.bashrc\n",
    "\n",
    "script=\"$1/script/Calc_EAF_chrX_Binary_Roskilde_CHILD.sh\"\n",
    "qsub -q long.q -v wd=$1 -e $1/log/calc_EAF_Roskilde_child_chrX.e -o $1/log/calc_EAF_Roskilde_child_chrX.o \"$script\""
   ]
  },
  {
   "cell_type": "markdown",
   "metadata": {},
   "source": [
    "### 5.4 Merge EAF (method newml) with x chromosome (method expected)"
   ]
  },
  {
   "cell_type": "code",
   "execution_count": 10,
   "metadata": {},
   "outputs": [
    {
     "name": "stdout",
     "output_type": "stream",
     "text": [
      "Overwriting /emc/cbmr/users/mjl259/project_EGG/script/Merge_EAF_Roskilde_CHILD_chrX.sh\n"
     ]
    }
   ],
   "source": [
    "%%writefile $workdir/script/Merge_EAF_Roskilde_CHILD_chrX.sh\n",
    "#$ -S /bin/bash\n",
    "#$ -N Org_upload\n",
    "#$ -cwd\n",
    "#$ -pe smp 2\n",
    "\n",
    "workdir=${wd}\n",
    "pheno=${pe}\n",
    "\n",
    "# Merge two INFO FILES\n",
    "awk -v OFS='\\t' 'FNR==NR{a[$1]=$2;next}{ print $0, a[$1]}' \\\n",
    "<(tail +2 ${workdir}/results/Roskilde_CHILD_rerun/ChrX/SNPTest_Roskilde_CHILD_chrX_Binary_EAF_header.txt) \\\n",
    "<(tail +2 ${workdir}/results/Roskilde_CHILD_rerun/ChrX/SNPTest_Roskilde_CHILD_chrX_recoded_${pheno}_header.txt) > \\\n",
    "${workdir}/results/Roskilde_CHILD_rerun/ChrX/SNPTest_Roskilde_CHILD_chrX_recoded_${pheno}_EAF.tmp\n",
    "\n",
    "# Round to 4 decimal places\n",
    "awk -v OFS='\\t' '{print ($1, $2, $3, $4, $5, $6, $7, $8, $9, $10, $11, $16, $12, $13, $14, $15) }' \\\n",
    "${workdir}/results/Roskilde_CHILD_rerun/ChrX/SNPTest_Roskilde_CHILD_chrX_recoded_${pheno}_EAF.tmp > \\\n",
    "${workdir}/results/Roskilde_CHILD_rerun/ChrX/SNPTest_Roskilde_CHILD_chrX_recoded_${pheno}_EAF_order.tmp\n",
    "\n",
    "# Add header\n",
    "{ echo -e \"SNPID\\tSTRAND\\tBUILD\\tCHR\\tPOS\\tEFFECT_ALLELE\\tNON_EFFECT_ALLELE\\tN\\tN0\\tN1\\tN2\\tEAF\\tHWE_P\\tBETA\\tSE\\tPVAL\"; \\\n",
    " cat ${workdir}/results/Roskilde_CHILD_rerun/ChrX/SNPTest_Roskilde_CHILD_chrX_recoded_${pheno}_EAF_order.tmp; } > \\\n",
    " ${workdir}/results/Roskilde_CHILD_rerun/ChrX/SNPTest_Roskilde_CHILD_chrX_recoded_${pheno}_EAF_order_header.txt"
   ]
  },
  {
   "cell_type": "code",
   "execution_count": 11,
   "metadata": {},
   "outputs": [
    {
     "name": "stdout",
     "output_type": "stream",
     "text": [
      "Your job 6918374 (\"Org_upload\") has been submitted\n",
      "Your job 6918375 (\"Org_upload\") has been submitted\n",
      "Your job 6918376 (\"Org_upload\") has been submitted\n",
      "Your job 6918377 (\"Org_upload\") has been submitted\n"
     ]
    }
   ],
   "source": [
    "%%bash -s \"$workdir\" \n",
    ". /home/mjl259/.bashrc\n",
    "\n",
    "script=\"$1/script/Merge_EAF_Roskilde_CHILD_chrX.sh\"\n",
    "declare -a phenos=(\"BW_sex_GA_adj\" \"BW_sex_adj\" \"PW_sex_GA_adj\" \"PW_sex_adj\")\n",
    "for pheno in \"${phenos[@]}\"; do\n",
    "qsub -q all.q -v pe=${pheno},wd=$1 -e $1/log/organize_upload_Roskilde_CHILD_${pheno}.e -o $1/log/organize_upload_Roskilde_CHILD_${pheno}.o \"$script\";\n",
    "done"
   ]
  },
  {
   "cell_type": "markdown",
   "metadata": {},
   "source": [
    "## 6. Extract info file 1"
   ]
  },
  {
   "cell_type": "markdown",
   "metadata": {},
   "source": [
    "### 6.1 Autosomes info file 1"
   ]
  },
  {
   "cell_type": "code",
   "execution_count": 4,
   "metadata": {},
   "outputs": [
    {
     "name": "stdout",
     "output_type": "stream",
     "text": [
      "Overwriting /emc/cbmr/users/mjl259/project_EGG/script/extract_info_1_Roskilde_vcf.sh\n"
     ]
    }
   ],
   "source": [
    "%%writefile $workdir/script/extract_info_1_Roskilde_vcf.sh\n",
    "#$ -S /bin/bash\n",
    "#$ -N Extract_1\n",
    "#$ -cwd\n",
    "#$ -pe smp 8\n",
    "\n",
    "chr=${c}\n",
    "pathgeno=${pg}\n",
    "workdir=${w}\n",
    "\n",
    "# Extract CALL_RATE and IMPUTED from chr.info.gz files\n",
    "zcat ${pathgeno}/chr${chr}.info.gz | \\\n",
    "perl -lane 'BEGIN{$_ = <>} print $F[0].\"\\t\".$F[5].\"\\t\".($F[7] eq \"Imputed\" ? 1 : 0).\"\\t\".($F[7] eq \"Imputed\" ? \"impute_info\" : \".\")' > \\\n",
    "${workdir}/genotype/Roskilde_CHILD_rerun/Info_query/chr${chr}_SNPID_CALL-RATE_IMPUTED_INFO-TYPE.tmp"
   ]
  },
  {
   "cell_type": "code",
   "execution_count": 5,
   "metadata": {},
   "outputs": [
    {
     "name": "stdout",
     "output_type": "stream",
     "text": [
      "Your job 6885605 (\"Extract_1\") has been submitted\n",
      "Your job 6885606 (\"Extract_1\") has been submitted\n",
      "Your job 6885607 (\"Extract_1\") has been submitted\n",
      "Your job 6885608 (\"Extract_1\") has been submitted\n",
      "Your job 6885609 (\"Extract_1\") has been submitted\n",
      "Your job 6885610 (\"Extract_1\") has been submitted\n",
      "Your job 6885611 (\"Extract_1\") has been submitted\n",
      "Your job 6885612 (\"Extract_1\") has been submitted\n",
      "Your job 6885613 (\"Extract_1\") has been submitted\n",
      "Your job 6885614 (\"Extract_1\") has been submitted\n",
      "Your job 6885615 (\"Extract_1\") has been submitted\n",
      "Your job 6885616 (\"Extract_1\") has been submitted\n",
      "Your job 6885617 (\"Extract_1\") has been submitted\n",
      "Your job 6885618 (\"Extract_1\") has been submitted\n",
      "Your job 6885619 (\"Extract_1\") has been submitted\n",
      "Your job 6885620 (\"Extract_1\") has been submitted\n",
      "Your job 6885621 (\"Extract_1\") has been submitted\n",
      "Your job 6885622 (\"Extract_1\") has been submitted\n",
      "Your job 6885623 (\"Extract_1\") has been submitted\n",
      "Your job 6885624 (\"Extract_1\") has been submitted\n",
      "Your job 6885625 (\"Extract_1\") has been submitted\n",
      "Your job 6885626 (\"Extract_1\") has been submitted\n"
     ]
    }
   ],
   "source": [
    "%%bash -s \"$workdir\" \"$pathgeno\" \"$pathpheno\"  \n",
    ". /home/mjl259/.bashrc\n",
    "\n",
    "script=\"$1/script/extract_info_1_Roskilde_vcf.sh\"\n",
    "for chr in {1..22}; do # loop through each chr\n",
    "qsub -q long.q -v c=${chr},pg=$2,w=$1 -e $1/log/extract_info_1_chr${chr}.e -o $1/log/extract_info_1_chr${chr}.o \"$script\";\n",
    "done"
   ]
  },
  {
   "cell_type": "code",
   "execution_count": 13,
   "metadata": {},
   "outputs": [
    {
     "name": "stdout",
     "output_type": "stream",
     "text": [
      "Overwriting /emc/cbmr/users/mjl259/project_EGG/script/Merge_info_1_Roskilde_vcf.sh\n"
     ]
    }
   ],
   "source": [
    "%%writefile $workdir/script/Merge_info_1_Roskilde_vcf.sh\n",
    "#$ -S /bin/bash\n",
    "#$ -N Merge_1\n",
    "#$ -cwd\n",
    "#$ -pe smp 8\n",
    "\n",
    "chr=${c}\n",
    "pathgeno=${pg}\n",
    "workdir=${w}\n",
    "\n",
    "# Merge each chr file\n",
    "cat ${workdir}/genotype/Roskilde_CHILD_rerun/Info_query/chr*_SNPID_CALL-RATE_IMPUTED_INFO-TYPE.tmp > \\\n",
    "${workdir}/genotype/Roskilde_CHILD_rerun/Info_query/Merged_SNPID_CALL-RATE_IMPUTED_INFO-TYPE.txt"
   ]
  },
  {
   "cell_type": "code",
   "execution_count": 14,
   "metadata": {},
   "outputs": [
    {
     "name": "stdout",
     "output_type": "stream",
     "text": [
      "Your job 6885651 (\"Merge_1\") has been submitted\n",
      "Your job 6885652 (\"Merge_1\") has been submitted\n",
      "Your job 6885653 (\"Merge_1\") has been submitted\n",
      "Your job 6885654 (\"Merge_1\") has been submitted\n",
      "Your job 6885655 (\"Merge_1\") has been submitted\n",
      "Your job 6885656 (\"Merge_1\") has been submitted\n",
      "Your job 6885657 (\"Merge_1\") has been submitted\n",
      "Your job 6885658 (\"Merge_1\") has been submitted\n",
      "Your job 6885659 (\"Merge_1\") has been submitted\n",
      "Your job 6885660 (\"Merge_1\") has been submitted\n",
      "Your job 6885661 (\"Merge_1\") has been submitted\n",
      "Your job 6885662 (\"Merge_1\") has been submitted\n",
      "Your job 6885663 (\"Merge_1\") has been submitted\n",
      "Your job 6885664 (\"Merge_1\") has been submitted\n",
      "Your job 6885665 (\"Merge_1\") has been submitted\n",
      "Your job 6885666 (\"Merge_1\") has been submitted\n",
      "Your job 6885667 (\"Merge_1\") has been submitted\n",
      "Your job 6885668 (\"Merge_1\") has been submitted\n",
      "Your job 6885669 (\"Merge_1\") has been submitted\n",
      "Your job 6885670 (\"Merge_1\") has been submitted\n",
      "Your job 6885671 (\"Merge_1\") has been submitted\n",
      "Your job 6885672 (\"Merge_1\") has been submitted\n"
     ]
    }
   ],
   "source": [
    "%%bash -s \"$workdir\" \"$pathgeno\" \"$pathpheno\"  \n",
    ". /home/mjl259/.bashrc\n",
    "\n",
    "script=\"$1/script/Merge_info_1_Roskilde_vcf.sh\"\n",
    "for chr in {1..22}; do # loop through each chr\n",
    "qsub -q long.q -v c=${chr},pg=$2,w=$1 -e $1/log/Merge_info_1_chr${chr}.e -o $1/log/Merge_info_1_chr${chr}.o \"$script\";\n",
    "done"
   ]
  },
  {
   "cell_type": "markdown",
   "metadata": {},
   "source": [
    "### 6.2 chromosome X info file 1"
   ]
  },
  {
   "cell_type": "code",
   "execution_count": 6,
   "metadata": {},
   "outputs": [
    {
     "name": "stdout",
     "output_type": "stream",
     "text": [
      "Overwriting /emc/cbmr/users/mjl259/project_EGG/script/extract_info_1_chrX_Roskilde_vcf.sh\n"
     ]
    }
   ],
   "source": [
    "%%writefile $workdir/script/extract_info_1_chrX_Roskilde_vcf.sh\n",
    "#$ -S /bin/bash\n",
    "#$ -N Extract_1\n",
    "#$ -cwd\n",
    "#$ -pe smp 8\n",
    "\n",
    "pathgeno=${pg}\n",
    "workdir=${w}\n",
    "\n",
    "# Extract CALL_RATE and IMPUTED from chr.info.gz files\n",
    "zcat ${pathgeno}/chrX.info.gz | \\\n",
    "perl -lane 'BEGIN{$_ = <>} print $F[0].\"\\t\".$F[5].\"\\t\".($F[7] eq \"Imputed\" ? 1 : 0).\"\\t\".($F[7] eq \"Imputed\" ? \"impute_info\" : \".\")' > \\\n",
    "${workdir}/genotype/Roskilde_CHILD_rerun/Info_query/ChrX/chrX_SNPID_CALL-RATE_IMPUTED_INFO-TYPE.tmp"
   ]
  },
  {
   "cell_type": "code",
   "execution_count": 7,
   "metadata": {},
   "outputs": [
    {
     "name": "stdout",
     "output_type": "stream",
     "text": [
      "Your job 6885627 (\"Extract_1\") has been submitted\n"
     ]
    }
   ],
   "source": [
    "%%bash -s \"$workdir\" \"$pathgeno\" \n",
    ". /home/mjl259/.bashrc\n",
    "\n",
    "script=\"$1/script/extract_info_1_chrX_Roskilde_vcf.sh\"\n",
    "qsub -q long.q -v pg=$2,w=$1 -e $1/log/extract_info_1_chrX.e -o $1/log/extract_info_1_chrX.o \"$script\""
   ]
  },
  {
   "cell_type": "markdown",
   "metadata": {},
   "source": [
    "## 7. Extract info file 2"
   ]
  },
  {
   "cell_type": "markdown",
   "metadata": {},
   "source": [
    "### 7.1 Autosomes info file 2"
   ]
  },
  {
   "cell_type": "code",
   "execution_count": 8,
   "metadata": {},
   "outputs": [
    {
     "name": "stdout",
     "output_type": "stream",
     "text": [
      "Overwriting /emc/cbmr/users/mjl259/project_EGG/script/extract_info_2_Roskilde_vcf.sh\n"
     ]
    }
   ],
   "source": [
    "%%writefile $workdir/script/extract_info_2_Roskilde_vcf.sh\n",
    "#$ -S /bin/bash\n",
    "#$ -N Extract_2\n",
    "#$ -cwd\n",
    "#$ -pe smp 8\n",
    "\n",
    "chr=${c}\n",
    "pathgeno=${pg}\n",
    "workdir=${w}\n",
    "\n",
    "# Extract INFO from dosage vcf files\n",
    "bcftools query -f '%ID\\t%INFO/R2\\n' ${pathgeno}/chr${chr}.dose.vcf.gz > \\\n",
    "${workdir}/genotype/Roskilde_CHILD_rerun/Info_query/chr${chr}_SNPID_INFO.tmp"
   ]
  },
  {
   "cell_type": "code",
   "execution_count": 9,
   "metadata": {},
   "outputs": [
    {
     "name": "stdout",
     "output_type": "stream",
     "text": [
      "Your job 6885628 (\"Extract_2\") has been submitted\n",
      "Your job 6885629 (\"Extract_2\") has been submitted\n",
      "Your job 6885630 (\"Extract_2\") has been submitted\n",
      "Your job 6885631 (\"Extract_2\") has been submitted\n",
      "Your job 6885632 (\"Extract_2\") has been submitted\n",
      "Your job 6885633 (\"Extract_2\") has been submitted\n",
      "Your job 6885634 (\"Extract_2\") has been submitted\n",
      "Your job 6885635 (\"Extract_2\") has been submitted\n",
      "Your job 6885636 (\"Extract_2\") has been submitted\n",
      "Your job 6885637 (\"Extract_2\") has been submitted\n",
      "Your job 6885638 (\"Extract_2\") has been submitted\n",
      "Your job 6885639 (\"Extract_2\") has been submitted\n",
      "Your job 6885640 (\"Extract_2\") has been submitted\n",
      "Your job 6885641 (\"Extract_2\") has been submitted\n",
      "Your job 6885642 (\"Extract_2\") has been submitted\n",
      "Your job 6885643 (\"Extract_2\") has been submitted\n",
      "Your job 6885644 (\"Extract_2\") has been submitted\n",
      "Your job 6885645 (\"Extract_2\") has been submitted\n",
      "Your job 6885646 (\"Extract_2\") has been submitted\n",
      "Your job 6885647 (\"Extract_2\") has been submitted\n",
      "Your job 6885648 (\"Extract_2\") has been submitted\n",
      "Your job 6885649 (\"Extract_2\") has been submitted\n"
     ]
    }
   ],
   "source": [
    "%%bash -s \"$workdir\" \"$pathgeno\" \"$pathpheno\"  \n",
    ". /home/mjl259/.bashrc\n",
    "\n",
    "script=\"$1/script/extract_info_2_Roskilde_vcf.sh\"\n",
    "for chr in {1..22}; do\n",
    "qsub -q long.q -v c=${chr},pg=$2,w=$1 -e $1/log/extract_info_2_chr${chr}.e -o $1/log/extract_info_2_chr${chr}.o \"$script\";\n",
    "done"
   ]
  },
  {
   "cell_type": "code",
   "execution_count": 15,
   "metadata": {},
   "outputs": [
    {
     "name": "stdout",
     "output_type": "stream",
     "text": [
      "Overwriting /emc/cbmr/users/mjl259/project_EGG/script/Merge_info_2_Roskilde_vcf.sh\n"
     ]
    }
   ],
   "source": [
    "%%writefile $workdir/script/Merge_info_2_Roskilde_vcf.sh\n",
    "#$ -S /bin/bash\n",
    "#$ -N Merge_2\n",
    "#$ -cwd\n",
    "#$ -pe smp 8\n",
    "\n",
    "chr=${c}\n",
    "pathgeno=${pg}\n",
    "workdir=${w}\n",
    "\n",
    "# Merge chromsome files\n",
    "cat ${workdir}/genotype/Roskilde_CHILD_rerun/Info_query/chr*_SNPID_INFO.tmp > \\\n",
    "    ${workdir}/genotype/Roskilde_CHILD_rerun/Info_query/Merged_SNPID_INFO.txt"
   ]
  },
  {
   "cell_type": "code",
   "execution_count": 16,
   "metadata": {},
   "outputs": [
    {
     "name": "stdout",
     "output_type": "stream",
     "text": [
      "Your job 6885673 (\"Merge_2\") has been submitted\n",
      "Your job 6885674 (\"Merge_2\") has been submitted\n",
      "Your job 6885675 (\"Merge_2\") has been submitted\n",
      "Your job 6885676 (\"Merge_2\") has been submitted\n",
      "Your job 6885677 (\"Merge_2\") has been submitted\n",
      "Your job 6885678 (\"Merge_2\") has been submitted\n",
      "Your job 6885679 (\"Merge_2\") has been submitted\n",
      "Your job 6885680 (\"Merge_2\") has been submitted\n",
      "Your job 6885681 (\"Merge_2\") has been submitted\n",
      "Your job 6885682 (\"Merge_2\") has been submitted\n",
      "Your job 6885683 (\"Merge_2\") has been submitted\n",
      "Your job 6885684 (\"Merge_2\") has been submitted\n",
      "Your job 6885685 (\"Merge_2\") has been submitted\n",
      "Your job 6885686 (\"Merge_2\") has been submitted\n",
      "Your job 6885687 (\"Merge_2\") has been submitted\n",
      "Your job 6885688 (\"Merge_2\") has been submitted\n",
      "Your job 6885689 (\"Merge_2\") has been submitted\n",
      "Your job 6885690 (\"Merge_2\") has been submitted\n",
      "Your job 6885691 (\"Merge_2\") has been submitted\n",
      "Your job 6885692 (\"Merge_2\") has been submitted\n",
      "Your job 6885693 (\"Merge_2\") has been submitted\n",
      "Your job 6885694 (\"Merge_2\") has been submitted\n"
     ]
    }
   ],
   "source": [
    "%%bash -s \"$workdir\" \"$pathgeno\" \"$pathpheno\"  \n",
    ". /home/mjl259/.bashrc\n",
    "\n",
    "script=\"$1/script/Merge_info_2_Roskilde_vcf.sh\"\n",
    "for chr in {1..22}; do\n",
    "qsub -q long.q -v c=${chr},pg=$2,w=$1 -e $1/log/extract_info_2_chr${chr}.e -o $1/log/extract_info_2_chr${chr}.o \"$script\";\n",
    "done"
   ]
  },
  {
   "cell_type": "markdown",
   "metadata": {},
   "source": [
    "### 7.2 Chromosome X info file 2"
   ]
  },
  {
   "cell_type": "code",
   "execution_count": 10,
   "metadata": {},
   "outputs": [
    {
     "name": "stdout",
     "output_type": "stream",
     "text": [
      "Overwriting /emc/cbmr/users/mjl259/project_EGG/script/extract_info_2_chrX_Roskilde_vcf.sh\n"
     ]
    }
   ],
   "source": [
    "%%writefile $workdir/script/extract_info_2_chrX_Roskilde_vcf.sh\n",
    "#$ -S /bin/bash\n",
    "#$ -N Extract_2\n",
    "#$ -cwd\n",
    "#$ -pe smp 8\n",
    "\n",
    "pathgeno=${pg}\n",
    "workdir=${w}\n",
    "\n",
    "# Extract INFO from dosage vcf files\n",
    "bcftools query -f '%ID\\t%INFO/R2\\n' ${pathgeno}/chrX.dose.vcf.gz > \\\n",
    "${workdir}/genotype/Roskilde_CHILD_rerun/Info_query/ChrX/chrX_SNPID_INFO.tmp"
   ]
  },
  {
   "cell_type": "code",
   "execution_count": 11,
   "metadata": {},
   "outputs": [
    {
     "name": "stdout",
     "output_type": "stream",
     "text": [
      "Your job 6885650 (\"Extract_2\") has been submitted\n"
     ]
    }
   ],
   "source": [
    "%%bash -s \"$workdir\" \"$pathgeno\"  \n",
    ". /home/mjl259/.bashrc\n",
    "\n",
    "script=\"$1/script/extract_info_2_chrX_Roskilde_vcf.sh\"\n",
    "qsub -q long.q -v pg=$2,w=$1 -e $1/log/extract_info_2_chrX.e -o $1/log/extract_info_2_chrX.o \"$script\""
   ]
  },
  {
   "cell_type": "markdown",
   "metadata": {},
   "source": [
    "## 8. Organize two info files"
   ]
  },
  {
   "cell_type": "markdown",
   "metadata": {},
   "source": [
    "### 8.1 Autosomes info files"
   ]
  },
  {
   "cell_type": "code",
   "execution_count": 4,
   "metadata": {},
   "outputs": [
    {
     "name": "stdout",
     "output_type": "stream",
     "text": [
      "Overwriting /emc/cbmr/users/mjl259/project_EGG/script/Organize_info_files_Roskilde_child.sh\n"
     ]
    }
   ],
   "source": [
    "%%writefile $workdir/script/Organize_info_files_Roskilde_child.sh\n",
    "#$ -S /bin/bash\n",
    "#$ -N Org_Info\n",
    "#$ -cwd\n",
    "#$ -pe smp 8\n",
    "\n",
    "workdir=${w}\n",
    "\n",
    "# FILE 1: Set CALL_RATE to 4 decimal places\n",
    "awk -v OFS='\\t' '{ printf(\"%s %.4f %s %s\\n\", $1, $2, $3, $4)}' \\\n",
    "${workdir}/genotype/Roskilde_CHILD_rerun/Info_query/Merged_SNPID_CALL-RATE_IMPUTED_INFO-TYPE.txt > \\\n",
    "${workdir}/genotype/Roskilde_CHILD_rerun/Info_query/Merged_SNPID_CALL-RATE_IMPUTED_INFO-TYPE_dec.tmp\n",
    "\n",
    "# FILE 1: Add header\n",
    "{ echo -e \"SNPID\\tCALL_RATE\\tIMPUTED\\tINFO_TYPE\"; \\\n",
    " cat ${workdir}/genotype/Roskilde_CHILD_rerun/Info_query/Merged_SNPID_CALL-RATE_IMPUTED_INFO-TYPE_dec.tmp;} > \\\n",
    " ${workdir}/genotype/Roskilde_CHILD_rerun/Info_query/Merged_SNPID_CALL-RATE_IMPUTED_INFO-TYPE_header.txt\n",
    "\n",
    "# FILE 2: Set INFO (RSQ values) to 4 decimal places\n",
    "awk -v OFS='\\t' '{ printf(\"%s %.4f\\n\", $1, $2) }' \\\n",
    "${workdir}/genotype/Roskilde_CHILD_rerun/Info_query/Merged_SNPID_INFO.txt > \\\n",
    "${workdir}/genotype/Roskilde_CHILD_rerun/Info_query/Merged_SNPID_INFO_dec.tmp\n",
    "\n",
    "# FILE 2: Add header\n",
    "{ echo -e \"SNPID\\tINFO\"; \\\n",
    " cat ${workdir}/genotype/Roskilde_CHILD_rerun/Info_query/Merged_SNPID_INFO_dec.tmp; } > \\\n",
    " ${workdir}/genotype/Roskilde_CHILD_rerun/Info_query/Merged_SNPID_INFO_header.txt"
   ]
  },
  {
   "cell_type": "code",
   "execution_count": 5,
   "metadata": {},
   "outputs": [
    {
     "name": "stdout",
     "output_type": "stream",
     "text": [
      "Your job 6885830 (\"Org_Info\") has been submitted\n"
     ]
    }
   ],
   "source": [
    "%%bash -s \"$workdir\"\n",
    ". /home/mjl259/.bashrc\n",
    "\n",
    "script=\"$1/script/Organize_info_files_Roskilde_child.sh\"\n",
    "\n",
    "qsub -q long.q -v w=$1 -e $1/log/org_info_files_Roskilde_child.e -o $1/log/org_info_files_Roskilde_child.o \"$script\";"
   ]
  },
  {
   "cell_type": "markdown",
   "metadata": {
    "collapsed": true
   },
   "source": [
    "### 8.2 X chromosome info files"
   ]
  },
  {
   "cell_type": "code",
   "execution_count": 6,
   "metadata": {},
   "outputs": [
    {
     "name": "stdout",
     "output_type": "stream",
     "text": [
      "Overwriting /emc/cbmr/users/mjl259/project_EGG/script/Organize_info_files_ChrX_Roskilde_child.sh\n"
     ]
    }
   ],
   "source": [
    "%%writefile $workdir/script/Organize_info_files_ChrX_Roskilde_child.sh\n",
    "#$ -S /bin/bash\n",
    "#$ -N Org_Info\n",
    "#$ -cwd\n",
    "#$ -pe smp 8\n",
    "\n",
    "workdir=${w}\n",
    "\n",
    "# FILE 1: Set CALL_RATE to 4 decimal places\n",
    "awk -v OFS='\\t' '{ printf(\"%s %.4f %s %s\\n\", $1, $2, $3, $4)}' \\\n",
    "${workdir}/genotype/Roskilde_CHILD_rerun/Info_query/ChrX/chrX_SNPID_CALL-RATE_IMPUTED_INFO-TYPE.tmp > \\\n",
    "${workdir}/genotype/Roskilde_CHILD_rerun/Info_query/ChrX/chrX_SNPID_CALL-RATE_IMPUTED_INFO-TYPE_dec.tmp\n",
    "\n",
    "# FILE 1: Add header\n",
    "{ echo -e \"SNPID\\tCALL_RATE\\tIMPUTED\\tINFO_TYPE\"; \\\n",
    " cat ${workdir}/genotype/Roskilde_CHILD_rerun/Info_query/ChrX/chrX_SNPID_CALL-RATE_IMPUTED_INFO-TYPE_dec.tmp;} > \\\n",
    " ${workdir}/genotype/Roskilde_CHILD_rerun/Info_query/ChrX/chrX_SNPID_CALL-RATE_IMPUTED_INFO-TYPE_header.txt\n",
    "\n",
    "# FILE 2: Set INFO (RSQ values) to 4 decimal places\n",
    "awk -v OFS='\\t' '{ printf(\"%s %.4f\\n\", $1, $2) }' \\\n",
    "${workdir}/genotype/Roskilde_CHILD_rerun/Info_query/ChrX/chrX_SNPID_INFO.tmp > \\\n",
    "${workdir}/genotype/Roskilde_CHILD_rerun/Info_query/ChrX/chrX_SNPID_INFO_dec.tmp\n",
    "\n",
    "# FILE 2: Add header\n",
    "{ echo -e \"SNPID\\tINFO\"; \\\n",
    " cat ${workdir}/genotype/Roskilde_CHILD_rerun/Info_query/ChrX/chrX_SNPID_INFO_dec.tmp; } > \\\n",
    " ${workdir}/genotype/Roskilde_CHILD_rerun/Info_query/ChrX/chrX_SNPID_INFO_header.txt"
   ]
  },
  {
   "cell_type": "code",
   "execution_count": 7,
   "metadata": {},
   "outputs": [
    {
     "name": "stdout",
     "output_type": "stream",
     "text": [
      "Your job 6885831 (\"Org_Info\") has been submitted\n"
     ]
    }
   ],
   "source": [
    "%%bash -s \"$workdir\"\n",
    ". /home/mjl259/.bashrc\n",
    "\n",
    "script=\"$1/script/Organize_info_files_ChrX_Roskilde_child.sh\"\n",
    "\n",
    "qsub -q long.q -v w=$1 -e $1/log/org_info_files_chrX_Roskilde_child.e -o $1/log/org_info_files_chrX_Roskilde_child.o \"$script\";"
   ]
  },
  {
   "cell_type": "markdown",
   "metadata": {},
   "source": [
    "## 9. Merge two info files"
   ]
  },
  {
   "cell_type": "markdown",
   "metadata": {},
   "source": [
    "### 9.1 Autosome merge"
   ]
  },
  {
   "cell_type": "code",
   "execution_count": 5,
   "metadata": {},
   "outputs": [
    {
     "name": "stdout",
     "output_type": "stream",
     "text": [
      "Overwriting /emc/cbmr/users/mjl259/project_EGG/script/Merge_info_files_Roskilde_CHILD_rerun.sh\n"
     ]
    }
   ],
   "source": [
    "%%writefile $workdir/script/Merge_info_files_Roskilde_CHILD_rerun.sh\n",
    "#$ -S /bin/bash\n",
    "#$ -N Merge_R\n",
    "#$ -cwd\n",
    "#$ -pe smp 8\n",
    "\n",
    "workdir=${w}\n",
    "\n",
    "# Merge two INFO FILES\n",
    "awk -v OFS='\\t' 'FNR==NR{a[$1]=$2;next}{ print $0, a[$1]}' \\\n",
    "<(tail +2 ${workdir}/genotype/Roskilde_CHILD_rerun/Info_query/Merged_SNPID_INFO_header.txt) \\\n",
    "<(tail +2 ${workdir}/genotype/Roskilde_CHILD_rerun/Info_query/Merged_SNPID_CALL-RATE_IMPUTED_INFO-TYPE_header.txt) > \\\n",
    "${workdir}/genotype/Roskilde_CHILD_rerun/Info_query/Merged_SNPID_CALL-RATE_IMPUTED_INFO-TYPE_INFO.tmp\n",
    "\n",
    "# Add header\n",
    "{ echo -e \"SNPID\\tCALL_RATE\\tIMPUTED\\tINFO_TYPE\\tINFO\"; \\\n",
    " cat ${workdir}/genotype/Roskilde_CHILD_rerun/Info_query/Merged_SNPID_CALL-RATE_IMPUTED_INFO-TYPE_INFO.tmp ; } > \\\n",
    "${workdir}/genotype/Roskilde_CHILD_rerun/Info_query/Merged_SNPID_CALL-RATE_IMPUTED_INFO-TYPE_INFO.tmp2\n",
    "\n",
    "# Set INFO (RSQ values) to missing if genotyped\n",
    "cat ${workdir}/genotype/Roskilde_CHILD_rerun/Info_query/Merged_SNPID_CALL-RATE_IMPUTED_INFO-TYPE_INFO.tmp2 | \\\n",
    "perl -lane 'BEGIN{$_ = <>} print $F[0].\"\\t\".$F[1].\"\\t\".$F[2].\"\\t\".$F[3].\"\\t\".($F[2] eq \"1\" ? $F[4] : \".\")' > \\\n",
    "${workdir}/genotype/Roskilde_CHILD_rerun/Info_query/Merged_SNPID_CALL-RATE_IMPUTED_INFO-TYPE_INFO_NA.tmp\n",
    "\n",
    "# Add header\n",
    "{ echo -e \"SNPID\\tCALL_RATE\\tIMPUTED\\tINFO_TYPE\\tINFO\"; \\\n",
    " cat ${workdir}/genotype/Roskilde_CHILD_rerun/Info_query/Merged_SNPID_CALL-RATE_IMPUTED_INFO-TYPE_INFO_NA.tmp ; } > \\\n",
    " ${workdir}/genotype/Roskilde_CHILD_rerun/Info_query/Merged_SNPID_CALL-RATE_IMPUTED_INFO-TYPE_INFO_header.txt"
   ]
  },
  {
   "cell_type": "code",
   "execution_count": 6,
   "metadata": {},
   "outputs": [
    {
     "name": "stdout",
     "output_type": "stream",
     "text": [
      "Your job 6918654 (\"Merge_R\") has been submitted\n"
     ]
    }
   ],
   "source": [
    "%%bash -s \"$workdir\"  \n",
    ". /home/mjl259/.bashrc\n",
    "\n",
    "script=\"$1/script/Merge_info_files_Roskilde_CHILD_rerun.sh\"\n",
    "\n",
    "qsub -q all.q -v w=$1 -e $1/log/Merge_info_Roskilde_CHILD_rerun.e -o $1/log/Merge_info_Roskilde_CHILD_rerun.o \"$script\";"
   ]
  },
  {
   "cell_type": "markdown",
   "metadata": {},
   "source": [
    "### 9.2 Chromosome X merge"
   ]
  },
  {
   "cell_type": "code",
   "execution_count": 7,
   "metadata": {},
   "outputs": [
    {
     "name": "stdout",
     "output_type": "stream",
     "text": [
      "Overwriting /emc/cbmr/users/mjl259/project_EGG/script/Merge_info_files_chrX_Roskilde_CHILD_rerun.sh\n"
     ]
    }
   ],
   "source": [
    "%%writefile $workdir/script/Merge_info_files_chrX_Roskilde_CHILD_rerun.sh\n",
    "#$ -S /bin/bash\n",
    "#$ -N Merge_R\n",
    "#$ -cwd\n",
    "#$ -pe smp 8\n",
    "\n",
    "workdir=${w}\n",
    "\n",
    "# Merge two INFO FILES\n",
    "awk -v OFS='\\t' 'FNR==NR{a[$1]=$2;next}{ print $0, a[$1]}' \\\n",
    "<(tail +2 ${workdir}/genotype/Roskilde_CHILD_rerun/Info_query/ChrX/chrX_SNPID_INFO_header.txt) \\\n",
    "<(tail +2 ${workdir}/genotype/Roskilde_CHILD_rerun/Info_query/ChrX/chrX_SNPID_CALL-RATE_IMPUTED_INFO-TYPE_header.txt) > \\\n",
    "${workdir}/genotype/Roskilde_CHILD_rerun/Info_query/ChrX/chrX_SNPID_CALL-RATE_IMPUTED_INFO-TYPE_INFO.tmp\n",
    "\n",
    "# Add header\n",
    "{ echo -e \"SNPID\\tCALL_RATE\\tIMPUTED\\tINFO_TYPE\\tINFO\"; \\\n",
    " cat ${workdir}/genotype/Roskilde_CHILD_rerun/Info_query/ChrX/chrX_SNPID_CALL-RATE_IMPUTED_INFO-TYPE_INFO.tmp; } > \\\n",
    "${workdir}/genotype/Roskilde_CHILD_rerun/Info_query/ChrX/chrX_SNPID_CALL-RATE_IMPUTED_INFO-TYPE_INFO.tmp2\n",
    "\n",
    "# Set INFO (RSQ values) to missing if genotyped\n",
    "cat ${workdir}/genotype/Roskilde_CHILD_rerun/Info_query/ChrX/chrX_SNPID_CALL-RATE_IMPUTED_INFO-TYPE_INFO.tmp2 | \\\n",
    "perl -lane 'BEGIN{$_ = <>} print $F[0].\"\\t\".$F[1].\"\\t\".$F[2].\"\\t\".$F[3].\"\\t\".($F[2] eq \"1\" ? $F[4] : \".\")' > \\\n",
    "${workdir}/genotype/Roskilde_CHILD_rerun/Info_query/ChrX/chrX_SNPID_CALL-RATE_IMPUTED_INFO-TYPE_INFO_NA.tmp\n",
    "\n",
    "# Add header\n",
    "{ echo -e \"SNPID\\tCALL_RATE\\tIMPUTED\\tINFO_TYPE\\tINFO\"; \\\n",
    " cat ${workdir}/genotype/Roskilde_CHILD_rerun/Info_query/ChrX/chrX_SNPID_CALL-RATE_IMPUTED_INFO-TYPE_INFO_NA.tmp; } > \\\n",
    " ${workdir}/genotype/Roskilde_CHILD_rerun/Info_query/ChrX/chrX_SNPID_CALL-RATE_IMPUTED_INFO-TYPE_INFO_header.txt"
   ]
  },
  {
   "cell_type": "code",
   "execution_count": 8,
   "metadata": {},
   "outputs": [
    {
     "name": "stdout",
     "output_type": "stream",
     "text": [
      "Your job 6918655 (\"Merge_R\") has been submitted\n"
     ]
    }
   ],
   "source": [
    "%%bash -s \"$workdir\"  \n",
    ". /home/mjl259/.bashrc\n",
    "\n",
    "script=\"$1/script/Merge_info_files_chrX_Roskilde_CHILD_rerun.sh\"\n",
    "\n",
    "qsub -q all.q -v w=$1 -e $1/log/Merge_info_chrX_Roskilde_CHILD_rerun.e -o $1/log/Merge_info_chrX_Roskilde_CHILD_rerun.o \"$script\";"
   ]
  },
  {
   "cell_type": "markdown",
   "metadata": {},
   "source": [
    "## 10. Merge SNPTEST results with merged info file"
   ]
  },
  {
   "cell_type": "markdown",
   "metadata": {},
   "source": [
    "### 10.1 Autosomes"
   ]
  },
  {
   "cell_type": "code",
   "execution_count": 9,
   "metadata": {},
   "outputs": [
    {
     "name": "stdout",
     "output_type": "stream",
     "text": [
      "Overwriting /emc/cbmr/users/mjl259/project_EGG/script/Merge_SNPTEST_info_files_Roskilde_CHILD_rerun.sh\n"
     ]
    }
   ],
   "source": [
    "%%writefile $workdir/script/Merge_SNPTEST_info_files_Roskilde_CHILD_rerun.sh\n",
    "#$ -S /bin/bash\n",
    "#$ -N Merge\n",
    "#$ -cwd\n",
    "#$ -pe smp 8\n",
    "\n",
    "workdir=${wd}\n",
    "pheno=${pe}\n",
    "\n",
    "# Merging SNPTEST output with info files\n",
    "awk -v OFS='\\t' -v FS='\\t' 'FNR==NR{a[$1]=$2 FS $3 FS $4 FS $5;next}{ print $0, a[$1]}' \\\n",
    "${workdir}/genotype/Roskilde_CHILD_rerun/Info_query/Merged_SNPID_CALL-RATE_IMPUTED_INFO-TYPE_INFO_header.txt \\\n",
    "${workdir}/results/Roskilde_CHILD_rerun/merged/SNPTEST_Roskilde_CHILD_merged_${pheno}_header.txt > \\\n",
    "${workdir}/results/Roskilde_CHILD_rerun/merged/SNPTEST_Roskilde_CHILD_${pheno}_info_merge.tmp\n",
    "\n",
    "# Re-order CALL_RATE position\n",
    "awk -v OFS='\\t' '{print $1, $2, $3, $4, $5, $6, $7, $8, $9, $10, $11, $12, $13, $17, $14, $15, $16, $18, $19, $20}' \\\n",
    "${workdir}/results/Roskilde_CHILD_rerun/merged/SNPTEST_Roskilde_CHILD_${pheno}_info_merge.tmp > \\\n",
    "${workdir}/results/Roskilde_CHILD_rerun/merged/SNPTEST_Roskilde_CHILD_${pheno}_info_merge_order.tmp\n",
    "\n",
    "# Set HWE_P to missing for imputed SNPs\n",
    "cat ${workdir}/results/Roskilde_CHILD_rerun/merged/SNPTEST_Roskilde_CHILD_${pheno}_info_merge_order.tmp | \\\n",
    "perl -lane 'BEGIN{$_ = <>} print $F[0].\"\\t\".$F[1].\"\\t\".$F[2].\"\\t\".$F[3].\"\\t\".$F[4].\"\\t\".$F[5].\"\\t\".$F[6].\"\\t\".$F[7].\"\\t\".$F[8].\"\\t\".$F[9].\"\\t\".$F[10].\"\\t\".$F[11].\"\\t\".($F[17] eq 1 ? \".\" : $F[12]).\"\\t\".$F[13].\"\\t\".$F[14].\"\\t\".$F[15].\"\\t\".$F[16].\"\\t\".$F[17].\"\\t\".$F[18].\"\\t\".$F[19]' > \\\n",
    "${workdir}/results/Roskilde_CHILD_rerun/merged/SNPTEST_Roskilde_CHILD_${pheno}_info_merge_hwe_na.tmp\n",
    "\n",
    "# Add header\n",
    "{ echo -e \"SNPID\\tSTRAND\\tBUILD\\tCHR\\tPOS\\tEFFECT_ALLELE\\tNON_EFFECT_ALLELE\\tN\\tN0\\tN1\\tN2\\tEAF\\tHWE_P\\tCALL_RATE\\tBETA\\tSE\\tPVAL\\tIMPUTED\\tINFO_TYPE\\tINFO\"; \\\n",
    " cat ${workdir}/results/Roskilde_CHILD_rerun/merged/SNPTEST_Roskilde_CHILD_${pheno}_info_merge_hwe_na.tmp ; } > \\\n",
    " ${workdir}/results/Roskilde_CHILD_rerun/merged/SNPTEST_Roskilde_CHILD_${pheno}_upload_header.txt"
   ]
  },
  {
   "cell_type": "code",
   "execution_count": 10,
   "metadata": {},
   "outputs": [
    {
     "name": "stdout",
     "output_type": "stream",
     "text": [
      "Your job 6918680 (\"Merge\") has been submitted\n",
      "Your job 6918681 (\"Merge\") has been submitted\n",
      "Your job 6918682 (\"Merge\") has been submitted\n",
      "Your job 6918683 (\"Merge\") has been submitted\n"
     ]
    }
   ],
   "source": [
    "%%bash -s \"$workdir\" \n",
    ". /home/mjl259/.bashrc\n",
    "\n",
    "script=\"$1/script/Merge_SNPTEST_info_files_Roskilde_CHILD_rerun.sh\"\n",
    "declare -a phenos=(\"BW_sex_GA_adj\" \"BW_sex_adj\" \"PW_sex_GA_adj\" \"PW_sex_adj\")\n",
    "for pheno in \"${phenos[@]}\"; do\n",
    "qsub -q all.q -v pe=${pheno},wd=$1 -e $1/log/Merge_snptest_info_files_Roskilde_CHILD_${pheno}.e -o $1/log/Merge_snptest_info_files_Roskilde_CHILD_${pheno}.o \"$script\";\n",
    "done"
   ]
  },
  {
   "cell_type": "markdown",
   "metadata": {},
   "source": [
    "### 10.2 X chromosome"
   ]
  },
  {
   "cell_type": "code",
   "execution_count": 11,
   "metadata": {},
   "outputs": [
    {
     "name": "stdout",
     "output_type": "stream",
     "text": [
      "Overwriting /emc/cbmr/users/mjl259/project_EGG/script/Merge_SNPTEST_chrX_info_files_Roskilde_CHILD_rerun.sh\n"
     ]
    }
   ],
   "source": [
    "%%writefile $workdir/script/Merge_SNPTEST_chrX_info_files_Roskilde_CHILD_rerun.sh\n",
    "#$ -S /bin/bash\n",
    "#$ -N Merge\n",
    "#$ -cwd\n",
    "#$ -pe smp 8\n",
    "\n",
    "workdir=${wd}\n",
    "pheno=${pe}\n",
    "\n",
    "# Merging SNPTEST output with info files\n",
    "awk -v OFS='\\t' -v FS='\\t' 'FNR==NR{a[$1]=$2 FS $3 FS $4 FS $5;next}{ print $0, a[$1]}' \\\n",
    "${workdir}/genotype/Roskilde_CHILD_rerun/Info_query/ChrX/chrX_SNPID_CALL-RATE_IMPUTED_INFO-TYPE_INFO_header.txt \\\n",
    "${workdir}/results/Roskilde_CHILD_rerun/ChrX/SNPTest_Roskilde_CHILD_chrX_recoded_${pheno}_EAF_order_header.txt > \\\n",
    "${workdir}/results/Roskilde_CHILD_rerun/ChrX/SNPTest_Roskilde_CHILD_chrX_recoded_${pheno}_info_merge.tmp\n",
    "\n",
    "# Re-order CALL_RATE position\n",
    "awk -v OFS='\\t' '{print $1, $2, $3, $4, $5, $6, $7, $8, $9, $10, $11, $12, $13, $17, $14, $15, $16, $18, $19, $20}' \\\n",
    "${workdir}/results/Roskilde_CHILD_rerun/ChrX/SNPTest_Roskilde_CHILD_chrX_recoded_${pheno}_info_merge.tmp > \\\n",
    "${workdir}/results/Roskilde_CHILD_rerun/ChrX/SNPTest_Roskilde_CHILD_chrX_recoded_${pheno}_info_merge_order.tmp\n",
    "\n",
    "# Set HWE_P to missing for imputed SNPs\n",
    "cat ${workdir}/results/Roskilde_CHILD_rerun/ChrX/SNPTest_Roskilde_CHILD_chrX_recoded_${pheno}_info_merge_order.tmp | \\\n",
    "perl -lane 'BEGIN{$_ = <>} print $F[0].\"\\t\".$F[1].\"\\t\".$F[2].\"\\t\".$F[3].\"\\t\".$F[4].\"\\t\".$F[5].\"\\t\".$F[6].\"\\t\".$F[7].\"\\t\".$F[8].\"\\t\".$F[9].\"\\t\".$F[10].\"\\t\".$F[11].\"\\t\".($F[17] eq 1 ? \".\" : $F[12]).\"\\t\".$F[13].\"\\t\".$F[14].\"\\t\".$F[15].\"\\t\".$F[16].\"\\t\".$F[17].\"\\t\".$F[18].\"\\t\".$F[19]' > \\\n",
    "${workdir}/results/Roskilde_CHILD_rerun/ChrX/SNPTest_Roskilde_CHILD_chrX_recoded_${pheno}_info_merge_hwe_na.tmp\n",
    "\n",
    "# Add header\n",
    "{ echo -e \"SNPID\\tSTRAND\\tBUILD\\tCHR\\tPOS\\tEFFECT_ALLELE\\tNON_EFFECT_ALLELE\\tN\\tN0\\tN1\\tN2\\tEAF\\tHWE_P\\tCALL_RATE\\tBETA\\tSE\\tPVAL\\tIMPUTED\\tINFO_TYPE\\tINFO\"; \\\n",
    " cat ${workdir}/results/Roskilde_CHILD_rerun/ChrX/SNPTest_Roskilde_CHILD_chrX_recoded_${pheno}_info_merge_hwe_na.tmp ; } > \\\n",
    " ${workdir}/results/Roskilde_CHILD_rerun/ChrX/SNPTest_Roskilde_CHILD_chrX_recoded_${pheno}_upload_header.txt"
   ]
  },
  {
   "cell_type": "code",
   "execution_count": 12,
   "metadata": {},
   "outputs": [
    {
     "name": "stdout",
     "output_type": "stream",
     "text": [
      "Your job 6918684 (\"Merge\") has been submitted\n",
      "Your job 6918685 (\"Merge\") has been submitted\n",
      "Your job 6918686 (\"Merge\") has been submitted\n",
      "Your job 6918687 (\"Merge\") has been submitted\n"
     ]
    }
   ],
   "source": [
    "%%bash -s \"$workdir\" \n",
    ". /home/mjl259/.bashrc\n",
    "\n",
    "script=\"$1/script/Merge_SNPTEST_chrX_info_files_Roskilde_CHILD_rerun.sh\"\n",
    "declare -a phenos=(\"BW_sex_GA_adj\" \"BW_sex_adj\" \"PW_sex_GA_adj\" \"PW_sex_adj\")\n",
    "for pheno in \"${phenos[@]}\"; do\n",
    "qsub -q all.q -v pe=${pheno},wd=$1 -e $1/log/Merge_snptest_info_files_chrX_Roskilde_CHILD_${pheno}.e -o $1/log/Merge_snptest_info_files_chrX_Roskilde_CHILD_${pheno}.o \"$script\";\n",
    "done"
   ]
  },
  {
   "cell_type": "markdown",
   "metadata": {
    "collapsed": true
   },
   "source": [
    "## 11. Merge autosomes results with X chromosome results"
   ]
  },
  {
   "cell_type": "code",
   "execution_count": 13,
   "metadata": {},
   "outputs": [
    {
     "name": "stdout",
     "output_type": "stream",
     "text": [
      "Overwriting /emc/cbmr/users/mjl259/project_EGG/script/Merge_final_results_Roskilde_CHILD_rerun.sh\n"
     ]
    }
   ],
   "source": [
    "%%writefile $workdir/script/Merge_final_results_Roskilde_CHILD_rerun.sh\n",
    "#$ -S /bin/bash\n",
    "#$ -N Merge\n",
    "#$ -cwd\n",
    "#$ -pe smp 8\n",
    "\n",
    "workdir=${wd}\n",
    "pheno=${pe}\n",
    "\n",
    "cat ${workdir}/results/Roskilde_CHILD_rerun/merged/SNPTEST_Roskilde_CHILD_${pheno}_upload_header.txt \\\n",
    "${workdir}/results/Roskilde_CHILD_rerun/ChrX/SNPTest_Roskilde_CHILD_chrX_recoded_${pheno}_info_merge_hwe_na.tmp > \\\n",
    "${workdir}/upload/Roskilde_CHILD_rerun/SNPTEST_Roskilde_CHILD_${pheno}_merged_chr.txt"
   ]
  },
  {
   "cell_type": "code",
   "execution_count": 14,
   "metadata": {},
   "outputs": [
    {
     "name": "stdout",
     "output_type": "stream",
     "text": [
      "Your job 6918688 (\"Merge\") has been submitted\n",
      "Your job 6918689 (\"Merge\") has been submitted\n",
      "Your job 6918690 (\"Merge\") has been submitted\n",
      "Your job 6918691 (\"Merge\") has been submitted\n"
     ]
    }
   ],
   "source": [
    "%%bash -s \"$workdir\" \n",
    ". /home/mjl259/.bashrc\n",
    "\n",
    "script=\"$1/script/Merge_final_results_Roskilde_CHILD_rerun.sh\"\n",
    "declare -a phenos=(\"BW_sex_GA_adj\" \"BW_sex_adj\" \"PW_sex_GA_adj\" \"PW_sex_adj\")\n",
    "for pheno in \"${phenos[@]}\"; do\n",
    "qsub -q all.q -v pe=${pheno},wd=$1 -e $1/log/Merge_final_results_Roskilde_CHILD_${pheno}.e -o $1/log/Merge_final_results_Roskilde_CHILD_${pheno}.o \"$script\";\n",
    "done"
   ]
  },
  {
   "cell_type": "markdown",
   "metadata": {},
   "source": [
    "## 12. Rename and zip the final files"
   ]
  },
  {
   "cell_type": "code",
   "execution_count": 15,
   "metadata": {},
   "outputs": [
    {
     "name": "stdout",
     "output_type": "stream",
     "text": [
      "Overwriting /emc/cbmr/users/mjl259/project_EGG/script/gzip_file_upload_Roskilde_CHILD.sh\n"
     ]
    }
   ],
   "source": [
    "%%writefile $workdir/script/gzip_file_upload_Roskilde_CHILD.sh\n",
    "#$ -S /bin/bash\n",
    "#$ -N Upload\n",
    "#$ -cwd\n",
    "#$ -pe smp 4\n",
    "\n",
    "workdir=${wd}\n",
    "pheno=${pe}\n",
    "    \n",
    "workdir=${wd}\n",
    "pheno=${pe}\n",
    "\n",
    "cp ${workdir}/upload/Roskilde_CHILD_rerun/SNPTEST_Roskilde_CHILD_${pheno}_merged_chr.txt \\\n",
    "   ${workdir}/upload/Roskilde_CHILD_rerun/final\n",
    "\n",
    "gzip ${workdir}/upload/Roskilde_CHILD_rerun/final/SNPTEST_Roskilde_CHILD_${pheno}_merged_chr.txt\n",
    "\n",
    "mv ${workdir}/upload/Roskilde_CHILD_rerun/final/SNPTEST_Roskilde_CHILD_BW_sex_adj_merged_chr.txt.gz \\\n",
    "    ${workdir}/upload/Roskilde_CHILD_rerun/final/EGG_HRC_BW6.BW.child.sex.Roskilde.european.SES.20200527.txt.gz\n",
    "\n",
    "mv ${workdir}/upload/Roskilde_CHILD_rerun/final/SNPTEST_Roskilde_CHILD_BW_sex_GA_adj_merged_chr.txt.gz \\\n",
    "     ${workdir}/upload/Roskilde_CHILD_rerun/final/EGG_HRC_BW6.BW.child.sex_gest.Roskilde.european.SES.20200527.txt.gz\n",
    "\n",
    "mv ${workdir}/upload/Roskilde_CHILD_rerun/final/SNPTEST_Roskilde_CHILD_PW_sex_adj_merged_chr.txt.gz \\\n",
    "    ${workdir}/upload/Roskilde_CHILD_rerun/final/EGG_HRC_BW6.PW.child.sex.Roskilde.european.SES.20200527.txt.gz\n",
    "\n",
    "mv ${workdir}/upload/Roskilde_CHILD_rerun/final/SNPTEST_Roskilde_CHILD_PW_sex_GA_adj_merged_chr.txt.gz  \\\n",
    "       ${workdir}/upload/Roskilde_CHILD_rerun/final/EGG_HRC_BW6.PW.child.sex_gest.Roskilde.european.SES.20200527.txt.gz"
   ]
  },
  {
   "cell_type": "code",
   "execution_count": 16,
   "metadata": {},
   "outputs": [
    {
     "name": "stdout",
     "output_type": "stream",
     "text": [
      "Your job 6918713 (\"Upload\") has been submitted\n",
      "Your job 6918714 (\"Upload\") has been submitted\n",
      "Your job 6918715 (\"Upload\") has been submitted\n",
      "Your job 6918716 (\"Upload\") has been submitted\n"
     ]
    }
   ],
   "source": [
    "%%bash -s \"$workdir\" \n",
    ". /home/mjl259/.bashrc\n",
    "\n",
    "script=\"$1/script/gzip_file_upload_Roskilde_CHILD.sh\"\n",
    "declare -a phenos=(\"BW_sex_GA_adj\" \"BW_sex_adj\" \"PW_sex_GA_adj\" \"PW_sex_adj\")\n",
    "for pheno in \"${phenos[@]}\"; do\n",
    "qsub -q all.q -v pe=${pheno},wd=$1 -e $1/log/e/gzip_final_results_Roskilde_CHILD_${pheno}.e \\\n",
    "-o $1/log/o/gzip_final_results_Roskilde_CHILD_${pheno}.o \"$script\";\n",
    "done"
   ]
  },
  {
   "cell_type": "code",
   "execution_count": null,
   "metadata": {
    "collapsed": true
   },
   "outputs": [],
   "source": []
  }
 ],
 "metadata": {
  "kernelspec": {
   "display_name": "Python 3",
   "language": "python",
   "name": "python3"
  },
  "language_info": {
   "codemirror_mode": {
    "name": "ipython",
    "version": 3
   },
   "file_extension": ".py",
   "mimetype": "text/x-python",
   "name": "python",
   "nbconvert_exporter": "python",
   "pygments_lexer": "ipython3",
   "version": "3.6.3"
  }
 },
 "nbformat": 4,
 "nbformat_minor": 2
}
